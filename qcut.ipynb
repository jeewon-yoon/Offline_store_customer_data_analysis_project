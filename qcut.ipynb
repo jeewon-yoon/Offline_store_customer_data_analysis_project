{
 "cells": [
  {
   "cell_type": "markdown",
   "id": "e58dbfa7-3f7a-43a6-ba28-5622fa570ad0",
   "metadata": {},
   "source": [
    "## RFM 분석"
   ]
  },
  {
   "cell_type": "code",
   "execution_count": 28,
   "id": "f9025680-3f15-4c86-b824-43c46443e3ce",
   "metadata": {},
   "outputs": [],
   "source": [
    "import pandas as pd\n",
    "import numpy as np\n",
    "import matplotlib.pyplot as plt"
   ]
  },
  {
   "cell_type": "code",
   "execution_count": 29,
   "id": "19bad6ce-054a-49f7-b5dc-e2eb546b7994",
   "metadata": {},
   "outputs": [],
   "source": [
    "df = pd.read_csv('C:/Users/elley/Desktop/Python/project_4_portfolio/mart_codeit/final_2.csv')"
   ]
  },
  {
   "cell_type": "code",
   "execution_count": 30,
   "id": "10c978fa-b87a-4869-b953-4da2f8c65803",
   "metadata": {},
   "outputs": [],
   "source": [
    "grade_labels = list(range(1, 4))"
   ]
  },
  {
   "cell_type": "code",
   "execution_count": 31,
   "id": "fc666aed-5368-40b7-bbc3-1cada5bdbb97",
   "metadata": {},
   "outputs": [
    {
     "data": {
      "text/plain": [
       "[1, 2, 3]"
      ]
     },
     "execution_count": 31,
     "metadata": {},
     "output_type": "execute_result"
    }
   ],
   "source": [
    "grade_labels"
   ]
  },
  {
   "cell_type": "code",
   "execution_count": 32,
   "id": "f7c57f30-c6e3-4bbb-bc94-6716cfde3a1e",
   "metadata": {},
   "outputs": [],
   "source": [
    "pd.set_option('display.max_columns', None)"
   ]
  },
  {
   "cell_type": "code",
   "execution_count": 33,
   "id": "ebc7ae6d-753b-4b3b-a6e3-c59e587b8a73",
   "metadata": {},
   "outputs": [
    {
     "data": {
      "text/html": [
       "<div>\n",
       "<style scoped>\n",
       "    .dataframe tbody tr th:only-of-type {\n",
       "        vertical-align: middle;\n",
       "    }\n",
       "\n",
       "    .dataframe tbody tr th {\n",
       "        vertical-align: top;\n",
       "    }\n",
       "\n",
       "    .dataframe thead th {\n",
       "        text-align: right;\n",
       "    }\n",
       "</style>\n",
       "<table border=\"1\" class=\"dataframe\">\n",
       "  <thead>\n",
       "    <tr style=\"text-align: right;\">\n",
       "      <th></th>\n",
       "      <th>ID</th>\n",
       "      <th>signup_ym</th>\n",
       "      <th>birth_year</th>\n",
       "      <th>annual_income</th>\n",
       "      <th>marital_st</th>\n",
       "      <th>children</th>\n",
       "      <th>recency</th>\n",
       "      <th>amount_alcohol</th>\n",
       "      <th>amount_fruit</th>\n",
       "      <th>amount_meat</th>\n",
       "      <th>amount_fish</th>\n",
       "      <th>amount_snack</th>\n",
       "      <th>amount_general</th>\n",
       "      <th>amount_total</th>\n",
       "      <th>num_purchase_web</th>\n",
       "      <th>num_purchase_store</th>\n",
       "      <th>num_purchase_discount</th>\n",
       "      <th>num_purchase_total</th>\n",
       "      <th>promotion_1</th>\n",
       "      <th>promotion_2</th>\n",
       "      <th>promotion_3</th>\n",
       "      <th>promotion_4</th>\n",
       "      <th>promotion_5</th>\n",
       "      <th>promotion_6</th>\n",
       "      <th>recency_grade</th>\n",
       "      <th>frequency_grade</th>\n",
       "      <th>monetary_grade</th>\n",
       "      <th>rfm_score</th>\n",
       "      <th>rfm_segment</th>\n",
       "      <th>age</th>\n",
       "      <th>age_group</th>\n",
       "    </tr>\n",
       "  </thead>\n",
       "  <tbody>\n",
       "    <tr>\n",
       "      <th>0</th>\n",
       "      <td>5524</td>\n",
       "      <td>2020-12</td>\n",
       "      <td>1965</td>\n",
       "      <td>75579400.0</td>\n",
       "      <td>미혼</td>\n",
       "      <td>0</td>\n",
       "      <td>58</td>\n",
       "      <td>825500</td>\n",
       "      <td>114400</td>\n",
       "      <td>709800</td>\n",
       "      <td>223600</td>\n",
       "      <td>114400</td>\n",
       "      <td>114400</td>\n",
       "      <td>2102100</td>\n",
       "      <td>8</td>\n",
       "      <td>4</td>\n",
       "      <td>3</td>\n",
       "      <td>15</td>\n",
       "      <td>0</td>\n",
       "      <td>0</td>\n",
       "      <td>0</td>\n",
       "      <td>0</td>\n",
       "      <td>0</td>\n",
       "      <td>1</td>\n",
       "      <td>2</td>\n",
       "      <td>2</td>\n",
       "      <td>3</td>\n",
       "      <td>2.4</td>\n",
       "      <td>3</td>\n",
       "      <td>59</td>\n",
       "      <td>50대</td>\n",
       "    </tr>\n",
       "    <tr>\n",
       "      <th>1</th>\n",
       "      <td>2174</td>\n",
       "      <td>2022-06</td>\n",
       "      <td>1962</td>\n",
       "      <td>60247200.0</td>\n",
       "      <td>미혼</td>\n",
       "      <td>2</td>\n",
       "      <td>38</td>\n",
       "      <td>14300</td>\n",
       "      <td>1300</td>\n",
       "      <td>7800</td>\n",
       "      <td>2600</td>\n",
       "      <td>1300</td>\n",
       "      <td>7800</td>\n",
       "      <td>35100</td>\n",
       "      <td>1</td>\n",
       "      <td>2</td>\n",
       "      <td>2</td>\n",
       "      <td>5</td>\n",
       "      <td>0</td>\n",
       "      <td>0</td>\n",
       "      <td>0</td>\n",
       "      <td>0</td>\n",
       "      <td>0</td>\n",
       "      <td>0</td>\n",
       "      <td>2</td>\n",
       "      <td>1</td>\n",
       "      <td>1</td>\n",
       "      <td>1.2</td>\n",
       "      <td>1</td>\n",
       "      <td>62</td>\n",
       "      <td>60대</td>\n",
       "    </tr>\n",
       "  </tbody>\n",
       "</table>\n",
       "</div>"
      ],
      "text/plain": [
       "     ID signup_ym  birth_year  annual_income marital_st  children  recency  \\\n",
       "0  5524   2020-12        1965     75579400.0         미혼         0       58   \n",
       "1  2174   2022-06        1962     60247200.0         미혼         2       38   \n",
       "\n",
       "   amount_alcohol  amount_fruit  amount_meat  amount_fish  amount_snack  \\\n",
       "0          825500        114400       709800       223600        114400   \n",
       "1           14300          1300         7800         2600          1300   \n",
       "\n",
       "   amount_general  amount_total  num_purchase_web  num_purchase_store  \\\n",
       "0          114400       2102100                 8                   4   \n",
       "1            7800         35100                 1                   2   \n",
       "\n",
       "   num_purchase_discount  num_purchase_total  promotion_1  promotion_2  \\\n",
       "0                      3                  15            0            0   \n",
       "1                      2                   5            0            0   \n",
       "\n",
       "   promotion_3  promotion_4  promotion_5  promotion_6  recency_grade  \\\n",
       "0            0            0            0            1              2   \n",
       "1            0            0            0            0              2   \n",
       "\n",
       "   frequency_grade  monetary_grade  rfm_score  rfm_segment  age age_group  \n",
       "0                2               3        2.4            3   59       50대  \n",
       "1                1               1        1.2            1   62       60대  "
      ]
     },
     "execution_count": 33,
     "metadata": {},
     "output_type": "execute_result"
    }
   ],
   "source": [
    "df.head(2)"
   ]
  },
  {
   "cell_type": "markdown",
   "id": "48d01ab7-ecc3-45de-845a-765ef28ca4f3",
   "metadata": {},
   "source": [
    "### Recency 등급을 3개로 나눈다. qcut을 이용하여 데이터 분포를 기반으로 3개의 구간으로 나눈다."
   ]
  },
  {
   "cell_type": "code",
   "execution_count": 34,
   "id": "0c5d7c67-2d59-4f55-ae86-c9637bfce107",
   "metadata": {},
   "outputs": [],
   "source": [
    "recency_grade = pd.qcut(x=df['recency'], q=3, labels=grade_labels[::-1])"
   ]
  },
  {
   "cell_type": "code",
   "execution_count": 35,
   "id": "7230ee7a-d7da-4593-848e-b66339ee73be",
   "metadata": {},
   "outputs": [
    {
     "data": {
      "image/png": "[encoded data removed]",
      "text/plain": [
       "<Figure size 400x300 with 1 Axes>"
      ]
     },
     "metadata": {},
     "output_type": "display_data"
    }
   ],
   "source": [
    "plt.figure(figsize=(4, 3))\n",
    "plt.hist(df['recency'], bins = 25, edgecolor='black')\n",
    "plt.title('Recency Histogram')\n",
    "plt.xlabel('Period btw last visit and latest one')\n",
    "plt.ylabel('# of people')\n",
    "plt.show()"
   ]
  },
  {
   "cell_type": "code",
   "execution_count": 36,
   "id": "03957ed9-de45-430b-94cb-925d0156b25c",
   "metadata": {},
   "outputs": [],
   "source": [
    "df['recency_grade'] = recency_grade"
   ]
  },
  {
   "cell_type": "code",
   "execution_count": 37,
   "id": "3dd644d9-e6f9-41a7-a694-a1a68fc98e63",
   "metadata": {},
   "outputs": [
    {
     "data": {
      "text/plain": [
       "recency_grade\n",
       "3    756\n",
       "1    733\n",
       "2    724\n",
       "Name: count, dtype: int64"
      ]
     },
     "execution_count": 37,
     "metadata": {},
     "output_type": "execute_result"
    }
   ],
   "source": [
    "df['recency_grade'].value_counts()"
   ]
  },
  {
   "cell_type": "code",
   "execution_count": 38,
   "id": "5389fbf1-2a0e-4155-b10a-e853c568b004",
   "metadata": {},
   "outputs": [],
   "source": [
    "frequency_grade = pd.qcut(x=df['num_purchase_total'], q=3, labels=grade_labels[::])"
   ]
  },
  {
   "cell_type": "code",
   "execution_count": 39,
   "id": "9d2f5d85-b389-4429-9b21-e127a9e4e6dc",
   "metadata": {},
   "outputs": [],
   "source": [
    "df['frequency_grade'] = frequency_grade"
   ]
  },
  {
   "cell_type": "code",
   "execution_count": 40,
   "id": "944b19b8-66fc-4ddc-9437-67467cec619f",
   "metadata": {},
   "outputs": [
    {
     "data": {
      "text/plain": [
       "frequency_grade\n",
       "1    856\n",
       "2    681\n",
       "3    676\n",
       "Name: count, dtype: int64"
      ]
     },
     "execution_count": 40,
     "metadata": {},
     "output_type": "execute_result"
    }
   ],
   "source": [
    "df['frequency_grade'].value_counts()"
   ]
  },
  {
   "cell_type": "code",
   "execution_count": 41,
   "id": "cf0ae9fe-b312-44e2-953f-9181331ad68d",
   "metadata": {},
   "outputs": [
    {
     "data": {
      "text/plain": [
       "Text(0, 0.5, '# of people')"
      ]
     },
     "execution_count": 41,
     "metadata": {},
     "output_type": "execute_result"
    },
    {
     "data": {
      "image/png": "[encoded data removed]",
      "text/plain": [
       "<Figure size 400x300 with 1 Axes>"
      ]
     },
     "metadata": {},
     "output_type": "display_data"
    }
   ],
   "source": [
    "plt.figure(figsize=(4, 3))\n",
    "plt.hist(df['num_purchase_total'], bins = 25, edgecolor='black')\n",
    "plt.title('Frequency Histogram')\n",
    "plt.xlabel('web + store + discount')\n",
    "plt.ylabel('# of people')"
   ]
  },
  {
   "cell_type": "code",
   "execution_count": 42,
   "id": "06588780-a118-4860-8fef-90c468900656",
   "metadata": {},
   "outputs": [],
   "source": [
    "monetary_grade = pd.qcut(x=df['amount_total'], q=3, labels=grade_labels[::])"
   ]
  },
  {
   "cell_type": "code",
   "execution_count": 43,
   "id": "710a1f44-e7b8-4b4d-9367-3f26813f920b",
   "metadata": {},
   "outputs": [],
   "source": [
    "df['monetary_grade'] = monetary_grade"
   ]
  },
  {
   "cell_type": "code",
   "execution_count": 44,
   "id": "744cafa3-2ff2-493b-8455-5d4bd300e178",
   "metadata": {},
   "outputs": [
    {
     "data": {
      "text/plain": [
       "Text(0, 0.5, '# of people')"
      ]
     },
     "execution_count": 44,
     "metadata": {},
     "output_type": "execute_result"
    },
    {
     "data": {
      "image/png": "[encoded data removed]",
      "text/plain": [
       "<Figure size 400x300 with 1 Axes>"
      ]
     },
     "metadata": {},
     "output_type": "display_data"
    }
   ],
   "source": [
    "plt.figure(figsize=(4, 3))\n",
    "plt.hist(df['amount_total'], bins = 30, edgecolor='black')\n",
    "plt.title('Monetary Histogram')\n",
    "plt.xlabel('Total amount of money spent')\n",
    "plt.ylabel('# of people')"
   ]
  },
  {
   "cell_type": "code",
   "execution_count": 45,
   "id": "554b6459-9f10-4653-8a49-0dbfe6b3c719",
   "metadata": {},
   "outputs": [
    {
     "data": {
      "text/plain": [
       "monetary_grade\n",
       "1    738\n",
       "3    738\n",
       "2    737\n",
       "Name: count, dtype: int64"
      ]
     },
     "execution_count": 45,
     "metadata": {},
     "output_type": "execute_result"
    }
   ],
   "source": [
    "df['monetary_grade'].value_counts()"
   ]
  },
  {
   "cell_type": "code",
   "execution_count": 46,
   "id": "05f59714-ba29-4dc2-a528-b727c7247982",
   "metadata": {},
   "outputs": [
    {
     "name": "stderr",
     "output_type": "stream",
     "text": [
      "C:\\Users\\elley\\AppData\\Local\\Temp\\ipykernel_20772\\509854325.py:2: FutureWarning: The default of observed=False is deprecated and will be changed to True in a future version of pandas. Pass observed=False to retain current behavior or observed=True to adopt the future default and silence this warning.\n",
      "  recency_group = df.groupby('recency_grade').sum(numeric_only=True).reset_index()\n"
     ]
    }
   ],
   "source": [
    "# 1. Recency / Frequency / Monetary 등급별 매출액 보기\n",
    "recency_group = df.groupby('recency_grade').sum(numeric_only=True).reset_index()"
   ]
  },
  {
   "cell_type": "code",
   "execution_count": 47,
   "id": "4d76a348-3645-44e1-831a-51cd0445ef59",
   "metadata": {},
   "outputs": [
    {
     "data": {
      "text/html": [
       "<div>\n",
       "<style scoped>\n",
       "    .dataframe tbody tr th:only-of-type {\n",
       "        vertical-align: middle;\n",
       "    }\n",
       "\n",
       "    .dataframe tbody tr th {\n",
       "        vertical-align: top;\n",
       "    }\n",
       "\n",
       "    .dataframe thead th {\n",
       "        text-align: right;\n",
       "    }\n",
       "</style>\n",
       "<table border=\"1\" class=\"dataframe\">\n",
       "  <thead>\n",
       "    <tr style=\"text-align: right;\">\n",
       "      <th></th>\n",
       "      <th>recency_grade</th>\n",
       "      <th>ID</th>\n",
       "      <th>birth_year</th>\n",
       "      <th>annual_income</th>\n",
       "      <th>children</th>\n",
       "      <th>recency</th>\n",
       "      <th>amount_alcohol</th>\n",
       "      <th>amount_fruit</th>\n",
       "      <th>amount_meat</th>\n",
       "      <th>amount_fish</th>\n",
       "      <th>amount_snack</th>\n",
       "      <th>amount_general</th>\n",
       "      <th>amount_total</th>\n",
       "      <th>num_purchase_web</th>\n",
       "      <th>num_purchase_store</th>\n",
       "      <th>num_purchase_discount</th>\n",
       "      <th>num_purchase_total</th>\n",
       "      <th>promotion_1</th>\n",
       "      <th>promotion_2</th>\n",
       "      <th>promotion_3</th>\n",
       "      <th>promotion_4</th>\n",
       "      <th>promotion_5</th>\n",
       "      <th>promotion_6</th>\n",
       "      <th>rfm_score</th>\n",
       "      <th>rfm_segment</th>\n",
       "      <th>age</th>\n",
       "    </tr>\n",
       "  </thead>\n",
       "  <tbody>\n",
       "    <tr>\n",
       "      <th>0</th>\n",
       "      <td>3</td>\n",
       "      <td>4356110</td>\n",
       "      <td>1494914</td>\n",
       "      <td>5.208329e+10</td>\n",
       "      <td>681</td>\n",
       "      <td>12076</td>\n",
       "      <td>294140600</td>\n",
       "      <td>26768300</td>\n",
       "      <td>161972200</td>\n",
       "      <td>37620700</td>\n",
       "      <td>25547600</td>\n",
       "      <td>42510000</td>\n",
       "      <td>588559400</td>\n",
       "      <td>3106</td>\n",
       "      <td>4391</td>\n",
       "      <td>1712</td>\n",
       "      <td>9209</td>\n",
       "      <td>54</td>\n",
       "      <td>12</td>\n",
       "      <td>67</td>\n",
       "      <td>55</td>\n",
       "      <td>60</td>\n",
       "      <td>179</td>\n",
       "      <td>1632.0</td>\n",
       "      <td>1606</td>\n",
       "      <td>35230</td>\n",
       "    </tr>\n",
       "    <tr>\n",
       "      <th>1</th>\n",
       "      <td>2</td>\n",
       "      <td>4006526</td>\n",
       "      <td>1430871</td>\n",
       "      <td>4.839501e+10</td>\n",
       "      <td>725</td>\n",
       "      <td>35877</td>\n",
       "      <td>294123700</td>\n",
       "      <td>23676900</td>\n",
       "      <td>151754200</td>\n",
       "      <td>35049300</td>\n",
       "      <td>25147200</td>\n",
       "      <td>41278900</td>\n",
       "      <td>571030200</td>\n",
       "      <td>2993</td>\n",
       "      <td>4241</td>\n",
       "      <td>1771</td>\n",
       "      <td>9005</td>\n",
       "      <td>47</td>\n",
       "      <td>8</td>\n",
       "      <td>47</td>\n",
       "      <td>52</td>\n",
       "      <td>48</td>\n",
       "      <td>95</td>\n",
       "      <td>1435.6</td>\n",
       "      <td>1505</td>\n",
       "      <td>34505</td>\n",
       "    </tr>\n",
       "    <tr>\n",
       "      <th>2</th>\n",
       "      <td>1</td>\n",
       "      <td>4001172</td>\n",
       "      <td>1449133</td>\n",
       "      <td>4.980112e+10</td>\n",
       "      <td>691</td>\n",
       "      <td>60501</td>\n",
       "      <td>289632200</td>\n",
       "      <td>25286300</td>\n",
       "      <td>166608000</td>\n",
       "      <td>35603100</td>\n",
       "      <td>27081600</td>\n",
       "      <td>42539900</td>\n",
       "      <td>586751100</td>\n",
       "      <td>2947</td>\n",
       "      <td>4215</td>\n",
       "      <td>1663</td>\n",
       "      <td>8825</td>\n",
       "      <td>41</td>\n",
       "      <td>10</td>\n",
       "      <td>49</td>\n",
       "      <td>57</td>\n",
       "      <td>53</td>\n",
       "      <td>59</td>\n",
       "      <td>1291.4</td>\n",
       "      <td>1303</td>\n",
       "      <td>34459</td>\n",
       "    </tr>\n",
       "  </tbody>\n",
       "</table>\n",
       "</div>"
      ],
      "text/plain": [
       "  recency_grade       ID  birth_year  annual_income  children  recency  \\\n",
       "0             3  4356110     1494914   5.208329e+10       681    12076   \n",
       "1             2  4006526     1430871   4.839501e+10       725    35877   \n",
       "2             1  4001172     1449133   4.980112e+10       691    60501   \n",
       "\n",
       "   amount_alcohol  amount_fruit  amount_meat  amount_fish  amount_snack  \\\n",
       "0       294140600      26768300    161972200     37620700      25547600   \n",
       "1       294123700      23676900    151754200     35049300      25147200   \n",
       "2       289632200      25286300    166608000     35603100      27081600   \n",
       "\n",
       "   amount_general  amount_total  num_purchase_web  num_purchase_store  \\\n",
       "0        42510000     588559400              3106                4391   \n",
       "1        41278900     571030200              2993                4241   \n",
       "2        42539900     586751100              2947                4215   \n",
       "\n",
       "   num_purchase_discount  num_purchase_total  promotion_1  promotion_2  \\\n",
       "0                   1712                9209           54           12   \n",
       "1                   1771                9005           47            8   \n",
       "2                   1663                8825           41           10   \n",
       "\n",
       "   promotion_3  promotion_4  promotion_5  promotion_6  rfm_score  rfm_segment  \\\n",
       "0           67           55           60          179     1632.0         1606   \n",
       "1           47           52           48           95     1435.6         1505   \n",
       "2           49           57           53           59     1291.4         1303   \n",
       "\n",
       "     age  \n",
       "0  35230  \n",
       "1  34505  \n",
       "2  34459  "
      ]
     },
     "execution_count": 47,
     "metadata": {},
     "output_type": "execute_result"
    }
   ],
   "source": [
    "pd.set_option('display.max_columns', None)\n",
    "recency_group"
   ]
  },
  {
   "cell_type": "code",
   "execution_count": 48,
   "id": "0133166a-171a-4ed8-abcb-e9cacc9f4b2e",
   "metadata": {},
   "outputs": [],
   "source": [
    "plt.rc('font', family='Malgun Gothic')"
   ]
  },
  {
   "cell_type": "code",
   "execution_count": 49,
   "id": "79cc4fbe-595f-4b76-bece-08c0d732e00f",
   "metadata": {},
   "outputs": [
    {
     "data": {
      "text/plain": [
       "<Axes: title={'center': 'Recency 등급별 매출 기여도'}>"
      ]
     },
     "execution_count": 49,
     "metadata": {},
     "output_type": "execute_result"
    },
    {
     "data": {
      "image/png": "[encoded data removed]",
      "text/plain": [
       "<Figure size 640x480 with 1 Axes>"
      ]
     },
     "metadata": {},
     "output_type": "display_data"
    }
   ],
   "source": [
    "recency_group['amount_total'].plot(\n",
    "    kind='pie',\n",
    "    autopct='%.1f%%',\n",
    "    labels=[f'{x}등급' for x in grade_labels[::-1]],\n",
    "    title='Recency 등급별 매출 기여도',\n",
    "    ylabel='',\n",
    ")"
   ]
  },
  {
   "cell_type": "code",
   "execution_count": 50,
   "id": "393e761f-b606-4a2d-90f2-d87d9c028e28",
   "metadata": {},
   "outputs": [
    {
     "name": "stderr",
     "output_type": "stream",
     "text": [
      "C:\\Users\\elley\\AppData\\Local\\Temp\\ipykernel_20772\\50987308.py:1: FutureWarning: The default of observed=False is deprecated and will be changed to True in a future version of pandas. Pass observed=False to retain current behavior or observed=True to adopt the future default and silence this warning.\n",
      "  frequency_group = df.groupby('frequency_grade').sum(numeric_only=True).reset_index()\n"
     ]
    }
   ],
   "source": [
    "frequency_group = df.groupby('frequency_grade').sum(numeric_only=True).reset_index()"
   ]
  },
  {
   "cell_type": "code",
   "execution_count": 51,
   "id": "4ab3e556-c51b-4bfa-9d68-377c8b8d08b5",
   "metadata": {},
   "outputs": [
    {
     "data": {
      "text/plain": [
       "<Axes: title={'center': 'Frequency 등급별 매출 기여도'}>"
      ]
     },
     "execution_count": 51,
     "metadata": {},
     "output_type": "execute_result"
    },
    {
     "data": {
      "image/png": "[encoded data removed]",
      "text/plain": [
       "<Figure size 640x480 with 1 Axes>"
      ]
     },
     "metadata": {},
     "output_type": "display_data"
    }
   ],
   "source": [
    "frequency_group['amount_total'].plot(\n",
    "    kind='pie',\n",
    "    autopct='%.1f%%',\n",
    "    labels=[f'{x}등급' for x in grade_labels[::]],\n",
    "    title='Frequency 등급별 매출 기여도',\n",
    "    ylabel='',\n",
    ")"
   ]
  },
  {
   "cell_type": "code",
   "execution_count": 52,
   "id": "8ebefbe1-b937-408d-b4a0-740ea97e3c57",
   "metadata": {},
   "outputs": [
    {
     "name": "stderr",
     "output_type": "stream",
     "text": [
      "C:\\Users\\elley\\AppData\\Local\\Temp\\ipykernel_20772\\690567101.py:1: FutureWarning: The default of observed=False is deprecated and will be changed to True in a future version of pandas. Pass observed=False to retain current behavior or observed=True to adopt the future default and silence this warning.\n",
      "  monetary_group = df.groupby('monetary_grade').sum(numeric_only=True).reset_index()\n"
     ]
    }
   ],
   "source": [
    "monetary_group = df.groupby('monetary_grade').sum(numeric_only=True).reset_index()"
   ]
  },
  {
   "cell_type": "code",
   "execution_count": 53,
   "id": "50ed89e2-25af-4660-b9ca-e457f504b500",
   "metadata": {},
   "outputs": [
    {
     "data": {
      "text/plain": [
       "<Axes: title={'center': 'Monetary 등급별 매출 기여도'}>"
      ]
     },
     "execution_count": 53,
     "metadata": {},
     "output_type": "execute_result"
    },
    {
     "data": {
      "image/png": "[encoded data removed]",
      "text/plain": [
       "<Figure size 640x480 with 1 Axes>"
      ]
     },
     "metadata": {},
     "output_type": "display_data"
    }
   ],
   "source": [
    "monetary_group['amount_total'].plot(\n",
    "    kind='pie',\n",
    "    autopct='%.1f%%',\n",
    "    labels=[f'{x}등급' for x in grade_labels[::]],\n",
    "    title='Monetary 등급별 매출 기여도',\n",
    "    ylabel='',\n",
    ")"
   ]
  },
  {
   "cell_type": "markdown",
   "id": "90cba550-6be5-47ac-b3b6-8dd3bae95e13",
   "metadata": {},
   "source": [
    "### **먼저 Recency, Frequency, Monetary 3 항목 모두 가중치를 동일하게 두고 등급을 매긴다."
   ]
  },
  {
   "cell_type": "code",
   "execution_count": 54,
   "id": "689bf7fc-55fb-4b72-bfe9-766eebb8ee5a",
   "metadata": {},
   "outputs": [],
   "source": [
    "weight = {}\n",
    "weight['recency'] = 1 / 3\n",
    "weight['frequency'] = 1 / 3\n",
    "weight['monetary'] = 1 / 3"
   ]
  },
  {
   "cell_type": "code",
   "execution_count": 55,
   "id": "9247e86d-5c27-4395-8144-3bca596fefa4",
   "metadata": {},
   "outputs": [],
   "source": [
    "df['rfm_score'] = (\n",
    "    weight['recency'] * df['recency_grade'].astype('int')\n",
    "    + weight['frequency'] * df['frequency_grade'].astype('int')\n",
    "    + weight['monetary'] * df['monetary_grade'].astype('int')\n",
    ")"
   ]
  },
  {
   "cell_type": "code",
   "execution_count": 56,
   "id": "ae25389f-207e-42f0-82d2-a21e5c8c72f7",
   "metadata": {},
   "outputs": [],
   "source": [
    "def rfm_segment_bins(x):\n",
    "    if x < 5 / 3:\n",
    "        return 1\n",
    "    elif x <= 7 / 3:\n",
    "        return 2\n",
    "    else:\n",
    "        return 3"
   ]
  },
  {
   "cell_type": "code",
   "execution_count": 57,
   "id": "94bfa051-845b-4b11-b429-4779ef35a260",
   "metadata": {},
   "outputs": [],
   "source": [
    "df['rfm_segment'] = df['rfm_score'].apply(rfm_segment_bins)"
   ]
  },
  {
   "cell_type": "code",
   "execution_count": 58,
   "id": "5ce53519-18e1-4b62-86a5-ba0cd917e882",
   "metadata": {},
   "outputs": [
    {
     "data": {
      "text/plain": [
       "rfm_segment\n",
       "1    930\n",
       "2    814\n",
       "3    469\n",
       "Name: count, dtype: int64"
      ]
     },
     "execution_count": 58,
     "metadata": {},
     "output_type": "execute_result"
    }
   ],
   "source": [
    "df['rfm_segment'].value_counts()"
   ]
  },
  {
   "cell_type": "code",
   "execution_count": 59,
   "id": "8cdc0bfb-2f08-4288-a575-7c0566612ebb",
   "metadata": {},
   "outputs": [],
   "source": [
    "groupby_rfm_segment = df.groupby('rfm_segment').sum(numeric_only=True).reset_index()"
   ]
  },
  {
   "cell_type": "code",
   "execution_count": 60,
   "id": "ee4499fb-0326-43e7-a40d-5238bea8db06",
   "metadata": {},
   "outputs": [
    {
     "data": {
      "image/png": "[encoded data removed]",
      "text/plain": [
       "<Figure size 640x480 with 1 Axes>"
      ]
     },
     "metadata": {},
     "output_type": "display_data"
    }
   ],
   "source": [
    "groupby_rfm_segment['amount_total'].plot(\n",
    "    kind='pie',\n",
    "    autopct='%.1f%%',\n",
    "    labels=[f'{x}등급' for x in grade_labels],\n",
    "    ylabel=''\n",
    ")\n",
    "# plt.title('가중치를 동일하게 둔 RFM 고객 세그먼트별 매출 기여도', fontsize=16)\n",
    "plt.show()"
   ]
  },
  {
   "cell_type": "markdown",
   "id": "ee0545dc-250b-4475-9a49-47938ecc1d5b",
   "metadata": {},
   "source": [
    "### 이제 Recency, Frequency, Monetary 세 기준의 매출 기여도의 차이가 다름을 바탕으로 중요도(weight)를 다르게 설정한다"
   ]
  },
  {
   "cell_type": "code",
   "execution_count": 61,
   "id": "2ec509a6-d350-4255-89b0-9f4977aa14c8",
   "metadata": {},
   "outputs": [],
   "source": [
    "# 가중치 재설정\n",
    "weight = {}\n",
    "weight['recency'] = 0.2\n",
    "weight['frequency'] = 0.4\n",
    "weight['monetary'] = 0.4"
   ]
  },
  {
   "cell_type": "code",
   "execution_count": 62,
   "id": "5b021fdf-8845-41dc-a351-c01c8a674a54",
   "metadata": {},
   "outputs": [],
   "source": [
    "# 가중합 다시 계산\n",
    "df['rfm_score'] = (weight['recency'] * df['recency_grade'].astype('int')\n",
    "    + weight['frequency'] * df['frequency_grade'].astype('int')\n",
    "    + weight['monetary'] * df['monetary_grade'].astype('int'))"
   ]
  },
  {
   "cell_type": "code",
   "execution_count": 63,
   "id": "48c5d6b3-5a28-4dcc-a9a3-b1ab0d15b8e2",
   "metadata": {},
   "outputs": [],
   "source": [
    "# RFM 고객 지표 구간화\n",
    "df['rfm_segment'] = df['rfm_score'].apply(rfm_segment_bins)"
   ]
  },
  {
   "cell_type": "code",
   "execution_count": 64,
   "id": "4ec60005-4c1a-4cc5-ab4b-0211fed4e43d",
   "metadata": {},
   "outputs": [
    {
     "data": {
      "text/plain": [
       "rfm_segment\n",
       "1    806\n",
       "3    793\n",
       "2    614\n",
       "Name: count, dtype: int64"
      ]
     },
     "execution_count": 64,
     "metadata": {},
     "output_type": "execute_result"
    }
   ],
   "source": [
    "df['rfm_segment'].value_counts()"
   ]
  },
  {
   "cell_type": "code",
   "execution_count": 65,
   "id": "eb8a1a7e-008b-4f14-b30a-a349d0cf160a",
   "metadata": {},
   "outputs": [],
   "source": [
    "groupby_rfm_segment = df.groupby('rfm_segment').sum(numeric_only=True).reset_index()"
   ]
  },
  {
   "cell_type": "code",
   "execution_count": 66,
   "id": "a947a31d-2c37-4d7c-b979-5ba5138869b4",
   "metadata": {},
   "outputs": [
    {
     "data": {
      "text/html": [
       "<div>\n",
       "<style scoped>\n",
       "    .dataframe tbody tr th:only-of-type {\n",
       "        vertical-align: middle;\n",
       "    }\n",
       "\n",
       "    .dataframe tbody tr th {\n",
       "        vertical-align: top;\n",
       "    }\n",
       "\n",
       "    .dataframe thead th {\n",
       "        text-align: right;\n",
       "    }\n",
       "</style>\n",
       "<table border=\"1\" class=\"dataframe\">\n",
       "  <thead>\n",
       "    <tr style=\"text-align: right;\">\n",
       "      <th></th>\n",
       "      <th>rfm_segment</th>\n",
       "      <th>ID</th>\n",
       "      <th>birth_year</th>\n",
       "      <th>annual_income</th>\n",
       "      <th>children</th>\n",
       "      <th>recency</th>\n",
       "      <th>amount_alcohol</th>\n",
       "      <th>amount_fruit</th>\n",
       "      <th>amount_meat</th>\n",
       "      <th>amount_fish</th>\n",
       "      <th>amount_snack</th>\n",
       "      <th>amount_general</th>\n",
       "      <th>amount_total</th>\n",
       "      <th>num_purchase_web</th>\n",
       "      <th>num_purchase_store</th>\n",
       "      <th>num_purchase_discount</th>\n",
       "      <th>num_purchase_total</th>\n",
       "      <th>promotion_1</th>\n",
       "      <th>promotion_2</th>\n",
       "      <th>promotion_3</th>\n",
       "      <th>promotion_4</th>\n",
       "      <th>promotion_5</th>\n",
       "      <th>promotion_6</th>\n",
       "      <th>rfm_score</th>\n",
       "      <th>age</th>\n",
       "    </tr>\n",
       "  </thead>\n",
       "  <tbody>\n",
       "    <tr>\n",
       "      <th>0</th>\n",
       "      <td>1</td>\n",
       "      <td>4542263</td>\n",
       "      <td>1595505</td>\n",
       "      <td>3.483451e+10</td>\n",
       "      <td>1000</td>\n",
       "      <td>41227</td>\n",
       "      <td>26341900</td>\n",
       "      <td>4095000</td>\n",
       "      <td>16593200</td>\n",
       "      <td>6099600</td>\n",
       "      <td>4169100</td>\n",
       "      <td>13094900</td>\n",
       "      <td>70393700</td>\n",
       "      <td>1337</td>\n",
       "      <td>2342</td>\n",
       "      <td>1386</td>\n",
       "      <td>5065</td>\n",
       "      <td>0</td>\n",
       "      <td>2</td>\n",
       "      <td>57</td>\n",
       "      <td>5</td>\n",
       "      <td>1</td>\n",
       "      <td>60</td>\n",
       "      <td>1002.0</td>\n",
       "      <td>35839</td>\n",
       "    </tr>\n",
       "    <tr>\n",
       "      <th>1</th>\n",
       "      <td>2</td>\n",
       "      <td>3449995</td>\n",
       "      <td>1213196</td>\n",
       "      <td>4.510823e+10</td>\n",
       "      <td>547</td>\n",
       "      <td>34492</td>\n",
       "      <td>231734100</td>\n",
       "      <td>22596600</td>\n",
       "      <td>137338500</td>\n",
       "      <td>31037500</td>\n",
       "      <td>22222200</td>\n",
       "      <td>39925600</td>\n",
       "      <td>484854500</td>\n",
       "      <td>2741</td>\n",
       "      <td>3532</td>\n",
       "      <td>1604</td>\n",
       "      <td>7877</td>\n",
       "      <td>31</td>\n",
       "      <td>6</td>\n",
       "      <td>44</td>\n",
       "      <td>48</td>\n",
       "      <td>37</td>\n",
       "      <td>78</td>\n",
       "      <td>1257.0</td>\n",
       "      <td>29540</td>\n",
       "    </tr>\n",
       "    <tr>\n",
       "      <th>2</th>\n",
       "      <td>3</td>\n",
       "      <td>4371550</td>\n",
       "      <td>1566217</td>\n",
       "      <td>7.033668e+10</td>\n",
       "      <td>550</td>\n",
       "      <td>32735</td>\n",
       "      <td>619820500</td>\n",
       "      <td>49039900</td>\n",
       "      <td>326402700</td>\n",
       "      <td>71136000</td>\n",
       "      <td>51385100</td>\n",
       "      <td>73308300</td>\n",
       "      <td>1191092500</td>\n",
       "      <td>4968</td>\n",
       "      <td>6973</td>\n",
       "      <td>2156</td>\n",
       "      <td>14097</td>\n",
       "      <td>111</td>\n",
       "      <td>22</td>\n",
       "      <td>62</td>\n",
       "      <td>111</td>\n",
       "      <td>123</td>\n",
       "      <td>195</td>\n",
       "      <td>2099.6</td>\n",
       "      <td>38815</td>\n",
       "    </tr>\n",
       "  </tbody>\n",
       "</table>\n",
       "</div>"
      ],
      "text/plain": [
       "   rfm_segment       ID  birth_year  annual_income  children  recency  \\\n",
       "0            1  4542263     1595505   3.483451e+10      1000    41227   \n",
       "1            2  3449995     1213196   4.510823e+10       547    34492   \n",
       "2            3  4371550     1566217   7.033668e+10       550    32735   \n",
       "\n",
       "   amount_alcohol  amount_fruit  amount_meat  amount_fish  amount_snack  \\\n",
       "0        26341900       4095000     16593200      6099600       4169100   \n",
       "1       231734100      22596600    137338500     31037500      22222200   \n",
       "2       619820500      49039900    326402700     71136000      51385100   \n",
       "\n",
       "   amount_general  amount_total  num_purchase_web  num_purchase_store  \\\n",
       "0        13094900      70393700              1337                2342   \n",
       "1        39925600     484854500              2741                3532   \n",
       "2        73308300    1191092500              4968                6973   \n",
       "\n",
       "   num_purchase_discount  num_purchase_total  promotion_1  promotion_2  \\\n",
       "0                   1386                5065            0            2   \n",
       "1                   1604                7877           31            6   \n",
       "2                   2156               14097          111           22   \n",
       "\n",
       "   promotion_3  promotion_4  promotion_5  promotion_6  rfm_score    age  \n",
       "0           57            5            1           60     1002.0  35839  \n",
       "1           44           48           37           78     1257.0  29540  \n",
       "2           62          111          123          195     2099.6  38815  "
      ]
     },
     "execution_count": 66,
     "metadata": {},
     "output_type": "execute_result"
    }
   ],
   "source": [
    "groupby_rfm_segment"
   ]
  },
  {
   "cell_type": "code",
   "execution_count": 67,
   "id": "0eb3dcd1-6e64-4c2c-a21f-7954ea413a11",
   "metadata": {},
   "outputs": [
    {
     "data": {
      "image/png": "[encoded data removed]",
      "text/plain": [
       "<Figure size 640x480 with 1 Axes>"
      ]
     },
     "metadata": {},
     "output_type": "display_data"
    }
   ],
   "source": [
    "groupby_rfm_segment['amount_total'].plot(\n",
    "    kind='pie',\n",
    "    autopct='%.1f%%',\n",
    "    labels=[f'{x}등급' for x in grade_labels],\n",
    "    ylabel=''\n",
    ")\n",
    "# plt.title('가중치를 다르게 둔 RFM 고객 세그먼트별 매출 기여도', fontsize=16)\n",
    "plt.show()"
   ]
  },
  {
   "cell_type": "markdown",
   "id": "1764b4e1-f0eb-4119-b2ba-06b7293d1e68",
   "metadata": {},
   "source": [
    "### 가중치를 다르게 두고 다시 분석하였을 때 3등급은 무려 절반 이상, 매출의 68%를 차지한다. 그림으로 보면 대략 3/4 정도의 비율을 차지."
   ]
  },
  {
   "cell_type": "markdown",
   "id": "3d95196b-6cdb-4e4e-923d-dbb832c79bf4",
   "metadata": {},
   "source": [
    "### 3등급 세그먼트의 특성을 다른 등급과 비교하여 보면 마트의 마케팅 전략 수립에 도움이 될만한 정보를 얻을 수 있다."
   ]
  },
  {
   "cell_type": "markdown",
   "id": "1e5542ae-94fc-436f-a540-13e7410429dd",
   "metadata": {},
   "source": [
    "### 가지고 있는 데이터를 통해 알아볼 수 있는 것들은 "
   ]
  },
  {
   "cell_type": "markdown",
   "id": "a6db7516-1d2a-44d9-9ecf-6982ee33ec6a",
   "metadata": {},
   "source": [
    "###   등급 간 연령대 분포, 프로모션 참여율 차이, 품목별 매출비율의 차이 등"
   ]
  },
  {
   "cell_type": "code",
   "execution_count": 68,
   "id": "4e8e8597-3f18-49dc-a249-26e0a3581025",
   "metadata": {},
   "outputs": [],
   "source": [
    "#### 먼저 연령별 분포를 알아본다. 연령대 표시하기 10대~60대\n",
    "df['age'] = 2024 - df['birth_year']"
   ]
  },
  {
   "cell_type": "code",
   "execution_count": 69,
   "id": "ff8c0080-94af-45aa-a1c5-c6207262786a",
   "metadata": {},
   "outputs": [
    {
     "data": {
      "text/plain": [
       "Text(0, 0.5, '# of people')"
      ]
     },
     "execution_count": 69,
     "metadata": {},
     "output_type": "execute_result"
    },
    {
     "data": {
      "image/png": "[encoded data removed]",
      "text/plain": [
       "<Figure size 400x300 with 1 Axes>"
      ]
     },
     "metadata": {},
     "output_type": "display_data"
    }
   ],
   "source": [
    "plt.figure(figsize=(4, 3))\n",
    "plt.hist(df['age'], bins = 20, edgecolor='black')\n",
    "plt.title('나이')\n",
    "plt.xlabel('나이')\n",
    "plt.ylabel('# of people')"
   ]
  },
  {
   "cell_type": "code",
   "execution_count": 70,
   "id": "59b7399a-7abb-4b00-b911-ba2bf749a9db",
   "metadata": {},
   "outputs": [],
   "source": [
    "def age(x):\n",
    "    if 10<=x<20:\n",
    "        return '10대'\n",
    "    if 20<=x<30:\n",
    "        return '20대'\n",
    "    if 30<=x<40:\n",
    "        return '30대'\n",
    "    if 40<=x<50:\n",
    "        return '40대'\n",
    "    if 50<=x<60:\n",
    "        return '50대'\n",
    "    if 60<=x<70:\n",
    "        return '60대'\n",
    "    if 70<=x<80:\n",
    "        return '80대'"
   ]
  },
  {
   "cell_type": "code",
   "execution_count": 71,
   "id": "a176ee93-4c87-49af-b1f0-d43f1d07cfd6",
   "metadata": {},
   "outputs": [],
   "source": [
    "df['age_group'] = df['age'].apply(age)"
   ]
  },
  {
   "cell_type": "code",
   "execution_count": 72,
   "id": "d9906072-c335-4978-8c1c-a5d552d06679",
   "metadata": {},
   "outputs": [
    {
     "name": "stdout",
     "output_type": "stream",
     "text": [
      "Empty DataFrame\n",
      "Columns: [ID, signup_ym, birth_year, annual_income, marital_st, children, recency, amount_alcohol, amount_fruit, amount_meat, amount_fish, amount_snack, amount_general, amount_total, num_purchase_web, num_purchase_store, num_purchase_discount, num_purchase_total, promotion_1, promotion_2, promotion_3, promotion_4, promotion_5, promotion_6, recency_grade, frequency_grade, monetary_grade, rfm_score, rfm_segment, age, age_group]\n",
      "Index: []\n"
     ]
    }
   ],
   "source": [
    "# 100살이 넘는 고객들은 제거\n",
    "empty_cells = df[df['age_group'].isnull()]\n",
    "print(empty_cells)"
   ]
  },
  {
   "cell_type": "code",
   "execution_count": 73,
   "id": "61682910-dd55-4291-8f4d-23d6e4b44fb7",
   "metadata": {},
   "outputs": [
    {
     "data": {
      "text/html": [
       "<div>\n",
       "<style scoped>\n",
       "    .dataframe tbody tr th:only-of-type {\n",
       "        vertical-align: middle;\n",
       "    }\n",
       "\n",
       "    .dataframe tbody tr th {\n",
       "        vertical-align: top;\n",
       "    }\n",
       "\n",
       "    .dataframe thead th {\n",
       "        text-align: right;\n",
       "    }\n",
       "</style>\n",
       "<table border=\"1\" class=\"dataframe\">\n",
       "  <thead>\n",
       "    <tr style=\"text-align: right;\">\n",
       "      <th></th>\n",
       "      <th>ID</th>\n",
       "      <th>signup_ym</th>\n",
       "      <th>birth_year</th>\n",
       "      <th>annual_income</th>\n",
       "      <th>marital_st</th>\n",
       "      <th>children</th>\n",
       "      <th>recency</th>\n",
       "      <th>amount_alcohol</th>\n",
       "      <th>amount_fruit</th>\n",
       "      <th>amount_meat</th>\n",
       "      <th>amount_fish</th>\n",
       "      <th>amount_snack</th>\n",
       "      <th>amount_general</th>\n",
       "      <th>amount_total</th>\n",
       "      <th>num_purchase_web</th>\n",
       "      <th>num_purchase_store</th>\n",
       "      <th>num_purchase_discount</th>\n",
       "      <th>num_purchase_total</th>\n",
       "      <th>promotion_1</th>\n",
       "      <th>promotion_2</th>\n",
       "      <th>promotion_3</th>\n",
       "      <th>promotion_4</th>\n",
       "      <th>promotion_5</th>\n",
       "      <th>promotion_6</th>\n",
       "      <th>recency_grade</th>\n",
       "      <th>frequency_grade</th>\n",
       "      <th>monetary_grade</th>\n",
       "      <th>rfm_score</th>\n",
       "      <th>rfm_segment</th>\n",
       "      <th>age</th>\n",
       "      <th>age_group</th>\n",
       "    </tr>\n",
       "  </thead>\n",
       "  <tbody>\n",
       "  </tbody>\n",
       "</table>\n",
       "</div>"
      ],
      "text/plain": [
       "Empty DataFrame\n",
       "Columns: [ID, signup_ym, birth_year, annual_income, marital_st, children, recency, amount_alcohol, amount_fruit, amount_meat, amount_fish, amount_snack, amount_general, amount_total, num_purchase_web, num_purchase_store, num_purchase_discount, num_purchase_total, promotion_1, promotion_2, promotion_3, promotion_4, promotion_5, promotion_6, recency_grade, frequency_grade, monetary_grade, rfm_score, rfm_segment, age, age_group]\n",
       "Index: []"
      ]
     },
     "execution_count": 73,
     "metadata": {},
     "output_type": "execute_result"
    }
   ],
   "source": [
    "empty_cells"
   ]
  },
  {
   "cell_type": "code",
   "execution_count": 74,
   "id": "863b1c04-9ddc-454b-b628-77311ab94a0d",
   "metadata": {},
   "outputs": [],
   "source": [
    "df = df.drop([181,228,326], axis=0)"
   ]
  },
  {
   "cell_type": "code",
   "execution_count": 75,
   "id": "573e51b1-f19a-428d-afaf-5df04e075dcd",
   "metadata": {},
   "outputs": [
    {
     "data": {
      "text/html": [
       "<div>\n",
       "<style scoped>\n",
       "    .dataframe tbody tr th:only-of-type {\n",
       "        vertical-align: middle;\n",
       "    }\n",
       "\n",
       "    .dataframe tbody tr th {\n",
       "        vertical-align: top;\n",
       "    }\n",
       "\n",
       "    .dataframe thead th {\n",
       "        text-align: right;\n",
       "    }\n",
       "</style>\n",
       "<table border=\"1\" class=\"dataframe\">\n",
       "  <thead>\n",
       "    <tr style=\"text-align: right;\">\n",
       "      <th></th>\n",
       "      <th>ID</th>\n",
       "      <th>signup_ym</th>\n",
       "      <th>birth_year</th>\n",
       "      <th>annual_income</th>\n",
       "      <th>marital_st</th>\n",
       "      <th>children</th>\n",
       "      <th>recency</th>\n",
       "      <th>amount_alcohol</th>\n",
       "      <th>amount_fruit</th>\n",
       "      <th>amount_meat</th>\n",
       "      <th>amount_fish</th>\n",
       "      <th>amount_snack</th>\n",
       "      <th>amount_general</th>\n",
       "      <th>amount_total</th>\n",
       "      <th>num_purchase_web</th>\n",
       "      <th>num_purchase_store</th>\n",
       "      <th>num_purchase_discount</th>\n",
       "      <th>num_purchase_total</th>\n",
       "      <th>promotion_1</th>\n",
       "      <th>promotion_2</th>\n",
       "      <th>promotion_3</th>\n",
       "      <th>promotion_4</th>\n",
       "      <th>promotion_5</th>\n",
       "      <th>promotion_6</th>\n",
       "      <th>recency_grade</th>\n",
       "      <th>frequency_grade</th>\n",
       "      <th>monetary_grade</th>\n",
       "      <th>rfm_score</th>\n",
       "      <th>rfm_segment</th>\n",
       "      <th>age</th>\n",
       "      <th>age_group</th>\n",
       "    </tr>\n",
       "  </thead>\n",
       "  <tbody>\n",
       "    <tr>\n",
       "      <th>0</th>\n",
       "      <td>5524</td>\n",
       "      <td>2020-12</td>\n",
       "      <td>1965</td>\n",
       "      <td>75579400.0</td>\n",
       "      <td>미혼</td>\n",
       "      <td>0</td>\n",
       "      <td>58</td>\n",
       "      <td>825500</td>\n",
       "      <td>114400</td>\n",
       "      <td>709800</td>\n",
       "      <td>223600</td>\n",
       "      <td>114400</td>\n",
       "      <td>114400</td>\n",
       "      <td>2102100</td>\n",
       "      <td>8</td>\n",
       "      <td>4</td>\n",
       "      <td>3</td>\n",
       "      <td>15</td>\n",
       "      <td>0</td>\n",
       "      <td>0</td>\n",
       "      <td>0</td>\n",
       "      <td>0</td>\n",
       "      <td>0</td>\n",
       "      <td>1</td>\n",
       "      <td>2</td>\n",
       "      <td>2</td>\n",
       "      <td>3</td>\n",
       "      <td>2.4</td>\n",
       "      <td>3</td>\n",
       "      <td>59</td>\n",
       "      <td>50대</td>\n",
       "    </tr>\n",
       "    <tr>\n",
       "      <th>1</th>\n",
       "      <td>2174</td>\n",
       "      <td>2022-06</td>\n",
       "      <td>1962</td>\n",
       "      <td>60247200.0</td>\n",
       "      <td>미혼</td>\n",
       "      <td>2</td>\n",
       "      <td>38</td>\n",
       "      <td>14300</td>\n",
       "      <td>1300</td>\n",
       "      <td>7800</td>\n",
       "      <td>2600</td>\n",
       "      <td>1300</td>\n",
       "      <td>7800</td>\n",
       "      <td>35100</td>\n",
       "      <td>1</td>\n",
       "      <td>2</td>\n",
       "      <td>2</td>\n",
       "      <td>5</td>\n",
       "      <td>0</td>\n",
       "      <td>0</td>\n",
       "      <td>0</td>\n",
       "      <td>0</td>\n",
       "      <td>0</td>\n",
       "      <td>0</td>\n",
       "      <td>2</td>\n",
       "      <td>1</td>\n",
       "      <td>1</td>\n",
       "      <td>1.2</td>\n",
       "      <td>1</td>\n",
       "      <td>62</td>\n",
       "      <td>60대</td>\n",
       "    </tr>\n",
       "  </tbody>\n",
       "</table>\n",
       "</div>"
      ],
      "text/plain": [
       "     ID signup_ym  birth_year  annual_income marital_st  children  recency  \\\n",
       "0  5524   2020-12        1965     75579400.0         미혼         0       58   \n",
       "1  2174   2022-06        1962     60247200.0         미혼         2       38   \n",
       "\n",
       "   amount_alcohol  amount_fruit  amount_meat  amount_fish  amount_snack  \\\n",
       "0          825500        114400       709800       223600        114400   \n",
       "1           14300          1300         7800         2600          1300   \n",
       "\n",
       "   amount_general  amount_total  num_purchase_web  num_purchase_store  \\\n",
       "0          114400       2102100                 8                   4   \n",
       "1            7800         35100                 1                   2   \n",
       "\n",
       "   num_purchase_discount  num_purchase_total  promotion_1  promotion_2  \\\n",
       "0                      3                  15            0            0   \n",
       "1                      2                   5            0            0   \n",
       "\n",
       "   promotion_3  promotion_4  promotion_5  promotion_6 recency_grade  \\\n",
       "0            0            0            0            1             2   \n",
       "1            0            0            0            0             2   \n",
       "\n",
       "  frequency_grade monetary_grade  rfm_score  rfm_segment  age age_group  \n",
       "0               2              3        2.4            3   59       50대  \n",
       "1               1              1        1.2            1   62       60대  "
      ]
     },
     "execution_count": 75,
     "metadata": {},
     "output_type": "execute_result"
    }
   ],
   "source": [
    "df.head(2)"
   ]
  },
  {
   "cell_type": "code",
   "execution_count": 76,
   "id": "386eb48c-02ee-4226-a5ee-f5bd9c1ce5c7",
   "metadata": {},
   "outputs": [],
   "source": [
    "## 100살이 넘는 고객 제외\n",
    "df.to_csv('C:/Users/elley/Desktop/Python/project_4_portfolio/mart_codeit/final_2.csv', index=False, encoding='utf-8')"
   ]
  },
  {
   "cell_type": "code",
   "execution_count": 77,
   "id": "2497da64-3709-4ca7-ae86-235ef4d98012",
   "metadata": {},
   "outputs": [
    {
     "data": {
      "text/html": [
       "<div>\n",
       "<style scoped>\n",
       "    .dataframe tbody tr th:only-of-type {\n",
       "        vertical-align: middle;\n",
       "    }\n",
       "\n",
       "    .dataframe tbody tr th {\n",
       "        vertical-align: top;\n",
       "    }\n",
       "\n",
       "    .dataframe thead th {\n",
       "        text-align: right;\n",
       "    }\n",
       "</style>\n",
       "<table border=\"1\" class=\"dataframe\">\n",
       "  <thead>\n",
       "    <tr style=\"text-align: right;\">\n",
       "      <th></th>\n",
       "      <th>rfm_segment</th>\n",
       "      <th>age_group</th>\n",
       "      <th>0</th>\n",
       "    </tr>\n",
       "  </thead>\n",
       "  <tbody>\n",
       "    <tr>\n",
       "      <th>0</th>\n",
       "      <td>1</td>\n",
       "      <td>20대</td>\n",
       "      <td>61</td>\n",
       "    </tr>\n",
       "    <tr>\n",
       "      <th>1</th>\n",
       "      <td>1</td>\n",
       "      <td>30대</td>\n",
       "      <td>213</td>\n",
       "    </tr>\n",
       "    <tr>\n",
       "      <th>2</th>\n",
       "      <td>1</td>\n",
       "      <td>40대</td>\n",
       "      <td>293</td>\n",
       "    </tr>\n",
       "    <tr>\n",
       "      <th>3</th>\n",
       "      <td>1</td>\n",
       "      <td>50대</td>\n",
       "      <td>140</td>\n",
       "    </tr>\n",
       "    <tr>\n",
       "      <th>4</th>\n",
       "      <td>1</td>\n",
       "      <td>60대</td>\n",
       "      <td>94</td>\n",
       "    </tr>\n",
       "    <tr>\n",
       "      <th>5</th>\n",
       "      <td>1</td>\n",
       "      <td>80대</td>\n",
       "      <td>4</td>\n",
       "    </tr>\n",
       "    <tr>\n",
       "      <th>6</th>\n",
       "      <td>2</td>\n",
       "      <td>20대</td>\n",
       "      <td>38</td>\n",
       "    </tr>\n",
       "    <tr>\n",
       "      <th>7</th>\n",
       "      <td>2</td>\n",
       "      <td>30대</td>\n",
       "      <td>111</td>\n",
       "    </tr>\n",
       "    <tr>\n",
       "      <th>8</th>\n",
       "      <td>2</td>\n",
       "      <td>40대</td>\n",
       "      <td>179</td>\n",
       "    </tr>\n",
       "    <tr>\n",
       "      <th>9</th>\n",
       "      <td>2</td>\n",
       "      <td>50대</td>\n",
       "      <td>154</td>\n",
       "    </tr>\n",
       "    <tr>\n",
       "      <th>10</th>\n",
       "      <td>2</td>\n",
       "      <td>60대</td>\n",
       "      <td>119</td>\n",
       "    </tr>\n",
       "    <tr>\n",
       "      <th>11</th>\n",
       "      <td>2</td>\n",
       "      <td>80대</td>\n",
       "      <td>12</td>\n",
       "    </tr>\n",
       "    <tr>\n",
       "      <th>12</th>\n",
       "      <td>3</td>\n",
       "      <td>20대</td>\n",
       "      <td>46</td>\n",
       "    </tr>\n",
       "    <tr>\n",
       "      <th>13</th>\n",
       "      <td>3</td>\n",
       "      <td>30대</td>\n",
       "      <td>130</td>\n",
       "    </tr>\n",
       "    <tr>\n",
       "      <th>14</th>\n",
       "      <td>3</td>\n",
       "      <td>40대</td>\n",
       "      <td>244</td>\n",
       "    </tr>\n",
       "    <tr>\n",
       "      <th>15</th>\n",
       "      <td>3</td>\n",
       "      <td>50대</td>\n",
       "      <td>185</td>\n",
       "    </tr>\n",
       "    <tr>\n",
       "      <th>16</th>\n",
       "      <td>3</td>\n",
       "      <td>60대</td>\n",
       "      <td>164</td>\n",
       "    </tr>\n",
       "    <tr>\n",
       "      <th>17</th>\n",
       "      <td>3</td>\n",
       "      <td>80대</td>\n",
       "      <td>23</td>\n",
       "    </tr>\n",
       "  </tbody>\n",
       "</table>\n",
       "</div>"
      ],
      "text/plain": [
       "    rfm_segment age_group    0\n",
       "0             1       20대   61\n",
       "1             1       30대  213\n",
       "2             1       40대  293\n",
       "3             1       50대  140\n",
       "4             1       60대   94\n",
       "5             1       80대    4\n",
       "6             2       20대   38\n",
       "7             2       30대  111\n",
       "8             2       40대  179\n",
       "9             2       50대  154\n",
       "10            2       60대  119\n",
       "11            2       80대   12\n",
       "12            3       20대   46\n",
       "13            3       30대  130\n",
       "14            3       40대  244\n",
       "15            3       50대  185\n",
       "16            3       60대  164\n",
       "17            3       80대   23"
      ]
     },
     "execution_count": 77,
     "metadata": {},
     "output_type": "execute_result"
    }
   ],
   "source": [
    "rfm_age = df.groupby(['rfm_segment', 'age_group']).size().reset_index()\n",
    "rfm_age"
   ]
  },
  {
   "cell_type": "code",
   "execution_count": 78,
   "id": "f6f88632-2dc8-439a-a6f7-aeecfa8cb625",
   "metadata": {},
   "outputs": [
    {
     "data": {
      "text/html": [
       "<div>\n",
       "<style scoped>\n",
       "    .dataframe tbody tr th:only-of-type {\n",
       "        vertical-align: middle;\n",
       "    }\n",
       "\n",
       "    .dataframe tbody tr th {\n",
       "        vertical-align: top;\n",
       "    }\n",
       "\n",
       "    .dataframe thead th {\n",
       "        text-align: right;\n",
       "    }\n",
       "</style>\n",
       "<table border=\"1\" class=\"dataframe\">\n",
       "  <thead>\n",
       "    <tr style=\"text-align: right;\">\n",
       "      <th></th>\n",
       "      <th>12</th>\n",
       "      <th>13</th>\n",
       "      <th>14</th>\n",
       "      <th>15</th>\n",
       "      <th>16</th>\n",
       "      <th>17</th>\n",
       "    </tr>\n",
       "  </thead>\n",
       "  <tbody>\n",
       "    <tr>\n",
       "      <th>rfm_segment</th>\n",
       "      <td>3</td>\n",
       "      <td>3</td>\n",
       "      <td>3</td>\n",
       "      <td>3</td>\n",
       "      <td>3</td>\n",
       "      <td>3</td>\n",
       "    </tr>\n",
       "    <tr>\n",
       "      <th>age_group</th>\n",
       "      <td>20대</td>\n",
       "      <td>30대</td>\n",
       "      <td>40대</td>\n",
       "      <td>50대</td>\n",
       "      <td>60대</td>\n",
       "      <td>80대</td>\n",
       "    </tr>\n",
       "    <tr>\n",
       "      <th>0</th>\n",
       "      <td>46</td>\n",
       "      <td>130</td>\n",
       "      <td>244</td>\n",
       "      <td>185</td>\n",
       "      <td>164</td>\n",
       "      <td>23</td>\n",
       "    </tr>\n",
       "  </tbody>\n",
       "</table>\n",
       "</div>"
      ],
      "text/plain": [
       "              12   13   14   15   16   17\n",
       "rfm_segment    3    3    3    3    3    3\n",
       "age_group    20대  30대  40대  50대  60대  80대\n",
       "0             46  130  244  185  164   23"
      ]
     },
     "execution_count": 78,
     "metadata": {},
     "output_type": "execute_result"
    }
   ],
   "source": [
    "third_seg_age = rfm_age[rfm_age['rfm_segment']==3] \n",
    "third_seg_age.T"
   ]
  },
  {
   "cell_type": "code",
   "execution_count": 79,
   "id": "e15addbb-3ce7-4a30-afeb-32baecfbe3a6",
   "metadata": {},
   "outputs": [
    {
     "data": {
      "text/plain": [
       "list"
      ]
     },
     "execution_count": 79,
     "metadata": {},
     "output_type": "execute_result"
    }
   ],
   "source": [
    "ag = ['20대', '30대', '40대', '50대', '60대', '80대']\n",
    "type(ag)"
   ]
  },
  {
   "cell_type": "code",
   "execution_count": 80,
   "id": "f6a79d95-0e60-4b29-bb63-cb2bf9167105",
   "metadata": {},
   "outputs": [],
   "source": [
    "import matplotlib.font_manager as fm\n",
    "plt.rc('font', family='Malgun Gothic')  "
   ]
  },
  {
   "cell_type": "code",
   "execution_count": 81,
   "id": "8a3ca0c0-139d-41d3-bc8b-3036e28471b0",
   "metadata": {},
   "outputs": [
    {
     "name": "stderr",
     "output_type": "stream",
     "text": [
      "C:\\Users\\elley\\AppData\\Local\\Temp\\ipykernel_20772\\4176326238.py:8: FutureWarning: Downcasting object dtype arrays on .fillna, .ffill, .bfill is deprecated and will change in a future version. Call result.infer_objects(copy=False) instead. To opt-in to the future behavior, set `pd.set_option('future.no_silent_downcasting', True)`\n",
      "  age_i.plot(\n",
      "C:\\Users\\elley\\AppData\\Local\\Temp\\ipykernel_20772\\4176326238.py:8: FutureWarning: Downcasting object dtype arrays on .fillna, .ffill, .bfill is deprecated and will change in a future version. Call result.infer_objects(copy=False) instead. To opt-in to the future behavior, set `pd.set_option('future.no_silent_downcasting', True)`\n",
      "  age_i.plot(\n",
      "C:\\Users\\elley\\AppData\\Local\\Temp\\ipykernel_20772\\4176326238.py:8: FutureWarning: Downcasting object dtype arrays on .fillna, .ffill, .bfill is deprecated and will change in a future version. Call result.infer_objects(copy=False) instead. To opt-in to the future behavior, set `pd.set_option('future.no_silent_downcasting', True)`\n",
      "  age_i.plot(\n"
     ]
    },
    {
     "data": {
      "image/png": "[encoded data removed]",
      "text/plain": [
       "<Figure size 1500x500 with 3 Axes>"
      ]
     },
     "metadata": {},
     "output_type": "display_data"
    }
   ],
   "source": [
    "fig, axes = plt.subplots(1, 3, figsize=(15, 5))\n",
    "ag = ['20대', '30대', '40대', '50대', '60대', '80대']\n",
    "\n",
    "for i in range(1,4):\n",
    "    age_i = rfm_age[rfm_age['rfm_segment']==i]\n",
    "    age_i = age_i.T\n",
    "    age_i = age_i.iloc[2,:]\n",
    "    age_i.plot(\n",
    "    kind='pie',\n",
    "    # y=gen_i.columns[0]\n",
    "    title=f'{i}등급의 나이 분포도',\n",
    "    labels=[f'{x}' for x in ag],\n",
    "    autopct='%.1f%%',\n",
    "    ylabel='',\n",
    "    ax = axes[i-1]\n",
    ")\n",
    "\n",
    "plt.show()"
   ]
  },
  {
   "cell_type": "markdown",
   "id": "6902cf70-4015-4d9b-83ba-f0812f71ffe8",
   "metadata": {},
   "source": [
    "#### 등급 간 뚜렷한 차이는 보여지지 않지만 전반적으로 중장년층(40, 50대)의 비율이 높은 것을 세 등급에서 모두 다 볼 수 있다."
   ]
  },
  {
   "cell_type": "code",
   "execution_count": 82,
   "id": "684c6b47-1eeb-4a1a-b4a3-f2ef017b87e0",
   "metadata": {},
   "outputs": [
    {
     "name": "stdout",
     "output_type": "stream",
     "text": [
      "7\n"
     ]
    }
   ],
   "source": [
    "col_index = df.columns.get_loc('amount_alcohol')\n",
    "print(col_index)"
   ]
  },
  {
   "cell_type": "code",
   "execution_count": 83,
   "id": "89051bb4-24a3-4b39-bc7d-dbc083e44bc5",
   "metadata": {},
   "outputs": [],
   "source": [
    "def category(x):\n",
    "    total = df.groupby('rfm_segment').agg({df.columns[x]: 'sum'}).reset_index()\n",
    "    return total"
   ]
  },
  {
   "cell_type": "code",
   "execution_count": 84,
   "id": "fe12ac5c-78ff-4f8a-9aef-92b57f3e0510",
   "metadata": {},
   "outputs": [
    {
     "data": {
      "text/html": [
       "<div>\n",
       "<style scoped>\n",
       "    .dataframe tbody tr th:only-of-type {\n",
       "        vertical-align: middle;\n",
       "    }\n",
       "\n",
       "    .dataframe tbody tr th {\n",
       "        vertical-align: top;\n",
       "    }\n",
       "\n",
       "    .dataframe thead th {\n",
       "        text-align: right;\n",
       "    }\n",
       "</style>\n",
       "<table border=\"1\" class=\"dataframe\">\n",
       "  <thead>\n",
       "    <tr style=\"text-align: right;\">\n",
       "      <th></th>\n",
       "      <th>rfm_segment</th>\n",
       "      <th>amount_alcohol</th>\n",
       "    </tr>\n",
       "  </thead>\n",
       "  <tbody>\n",
       "    <tr>\n",
       "      <th>0</th>\n",
       "      <td>1</td>\n",
       "      <td>26312000</td>\n",
       "    </tr>\n",
       "    <tr>\n",
       "      <th>1</th>\n",
       "      <td>2</td>\n",
       "      <td>231237500</td>\n",
       "    </tr>\n",
       "    <tr>\n",
       "      <th>2</th>\n",
       "      <td>3</td>\n",
       "      <td>618386600</td>\n",
       "    </tr>\n",
       "  </tbody>\n",
       "</table>\n",
       "</div>"
      ],
      "text/plain": [
       "   rfm_segment  amount_alcohol\n",
       "0            1        26312000\n",
       "1            2       231237500\n",
       "2            3       618386600"
      ]
     },
     "execution_count": 84,
     "metadata": {},
     "output_type": "execute_result"
    }
   ],
   "source": [
    "category(7)"
   ]
  },
  {
   "cell_type": "code",
   "execution_count": 85,
   "id": "74820b62-1f8d-4d38-b7af-27294bc62c6b",
   "metadata": {},
   "outputs": [],
   "source": [
    "results = {}\n",
    "\n",
    "for i in range(7, 13):  \n",
    "    df_i = category(i)  \n",
    "    results[f'df_{i}'] = df_i  \n",
    "    \n",
    "    if i > 7: \n",
    "        df_prev = results[f'df_{i-1}']  \n",
    "        df_i = pd.concat([df_i, df_prev], axis=1, join='outer') \n",
    "\n",
    "    results[f'df_{i}'] = df_i"
   ]
  },
  {
   "cell_type": "code",
   "execution_count": 86,
   "id": "276cbb6d-ffe7-49f6-8db5-d94d69ca4e8e",
   "metadata": {},
   "outputs": [],
   "source": [
    "category = results['df_12']\n",
    "rfm = category.iloc[:, 0]"
   ]
  },
  {
   "cell_type": "code",
   "execution_count": 87,
   "id": "7457a6bb-f996-47dc-a540-45de6b240581",
   "metadata": {},
   "outputs": [],
   "source": [
    "amount = category.drop(columns=[category.columns[2], category.columns[4], category.columns[6], category.columns[8], category.columns[10]])"
   ]
  },
  {
   "cell_type": "code",
   "execution_count": 88,
   "id": "430430b4-8e7f-4dd0-b1ec-b4160ed308c5",
   "metadata": {},
   "outputs": [
    {
     "data": {
      "text/html": [
       "<div>\n",
       "<style scoped>\n",
       "    .dataframe tbody tr th:only-of-type {\n",
       "        vertical-align: middle;\n",
       "    }\n",
       "\n",
       "    .dataframe tbody tr th {\n",
       "        vertical-align: top;\n",
       "    }\n",
       "\n",
       "    .dataframe thead th {\n",
       "        text-align: right;\n",
       "    }\n",
       "</style>\n",
       "<table border=\"1\" class=\"dataframe\">\n",
       "  <thead>\n",
       "    <tr style=\"text-align: right;\">\n",
       "      <th></th>\n",
       "      <th>rfm_segment</th>\n",
       "      <th>amount_general</th>\n",
       "      <th>amount_snack</th>\n",
       "      <th>amount_fish</th>\n",
       "      <th>amount_meat</th>\n",
       "      <th>amount_fruit</th>\n",
       "      <th>amount_alcohol</th>\n",
       "    </tr>\n",
       "  </thead>\n",
       "  <tbody>\n",
       "    <tr>\n",
       "      <th>0</th>\n",
       "      <td>1</td>\n",
       "      <td>13066300</td>\n",
       "      <td>4144400</td>\n",
       "      <td>6095700</td>\n",
       "      <td>16565900</td>\n",
       "      <td>4091100</td>\n",
       "      <td>26312000</td>\n",
       "    </tr>\n",
       "    <tr>\n",
       "      <th>1</th>\n",
       "      <td>2</td>\n",
       "      <td>39876200</td>\n",
       "      <td>22061000</td>\n",
       "      <td>30940000</td>\n",
       "      <td>136979700</td>\n",
       "      <td>22448400</td>\n",
       "      <td>231237500</td>\n",
       "    </tr>\n",
       "    <tr>\n",
       "      <th>2</th>\n",
       "      <td>3</td>\n",
       "      <td>73264100</td>\n",
       "      <td>51385100</td>\n",
       "      <td>71136000</td>\n",
       "      <td>326344200</td>\n",
       "      <td>49039900</td>\n",
       "      <td>618386600</td>\n",
       "    </tr>\n",
       "  </tbody>\n",
       "</table>\n",
       "</div>"
      ],
      "text/plain": [
       "   rfm_segment  amount_general  amount_snack  amount_fish  amount_meat  \\\n",
       "0            1        13066300       4144400      6095700     16565900   \n",
       "1            2        39876200      22061000     30940000    136979700   \n",
       "2            3        73264100      51385100     71136000    326344200   \n",
       "\n",
       "   amount_fruit  amount_alcohol  \n",
       "0       4091100        26312000  \n",
       "1      22448400       231237500  \n",
       "2      49039900       618386600  "
      ]
     },
     "execution_count": 88,
     "metadata": {},
     "output_type": "execute_result"
    }
   ],
   "source": [
    "concat = pd.concat([rfm, amount], axis=1)\n",
    "concat"
   ]
  },
  {
   "cell_type": "code",
   "execution_count": 89,
   "id": "c65480b0-482d-4bad-8509-ba6ac32a4378",
   "metadata": {},
   "outputs": [
    {
     "data": {
      "image/png": "[encoded data removed]",
      "text/plain": [
       "<Figure size 1500x500 with 3 Axes>"
      ]
     },
     "metadata": {},
     "output_type": "display_data"
    }
   ],
   "source": [
    "# 서브플롯 크기 조정 및 생성\n",
    "fig, axes = plt.subplots(1, 3, figsize=(15, 5))  # 1행 3열의 서브플롯 생성\n",
    "\n",
    "# 서브플롯의 레전드가 동일하므로 새로운 이미지로 레전드 표시\n",
    "# fig, legend_ax = plt.subplots()\n",
    "\n",
    "# 서브플롯\n",
    "for i in range(1, 4):\n",
    "    concat_i = pd.DataFrame(concat.iloc[i-1, 1:7])\n",
    "    \n",
    "    # 파이차트 그리기\n",
    "    concat_i.plot(\n",
    "        kind='pie',\n",
    "        y=concat_i.columns[0],\n",
    "        autopct='%.1f%%',\n",
    "        labels=[f'{x}' for x in ag],\n",
    "        title=f'{i}등급 세그먼트 품목별 매출 기여도',\n",
    "        ylabel='',\n",
    "        legend=False,\n",
    "        ax = axes[i-1])\n",
    "\n",
    "plt.show()"
   ]
  },
  {
   "cell_type": "markdown",
   "id": "ebbf7f94-a48c-438c-a1e8-8671c060ebcd",
   "metadata": {},
   "source": [
    "### 등급별 프로모션 참여율 알아보기 "
   ]
  },
  {
   "cell_type": "code",
   "execution_count": 90,
   "id": "a9b5777f-4a3b-4b70-8c4d-dd57da45ab23",
   "metadata": {},
   "outputs": [],
   "source": [
    "prom = df.groupby('rfm_segment')[['promotion_1', 'promotion_2', 'promotion_3', 'promotion_4', 'promotion_5', 'promotion_6']].sum()\n",
    "prom = prom.reset_index()"
   ]
  },
  {
   "cell_type": "code",
   "execution_count": 91,
   "id": "ddfb50e7-f406-41af-8593-aecf74c85568",
   "metadata": {},
   "outputs": [
    {
     "name": "stdout",
     "output_type": "stream",
     "text": [
      "(805, 31)\n",
      "(613, 31)\n",
      "(792, 31)\n"
     ]
    }
   ],
   "source": [
    "print(df[df['rfm_segment'] == 1].shape)\n",
    "print(df[df['rfm_segment'] == 2].shape)\n",
    "print(df[df['rfm_segment'] == 3].shape)"
   ]
  },
  {
   "cell_type": "code",
   "execution_count": 92,
   "id": "3b6d1b8d-d70e-4eee-b924-854c811027c3",
   "metadata": {},
   "outputs": [],
   "source": [
    "prom_1 = prom.iloc[0, 1:]/805"
   ]
  },
  {
   "cell_type": "code",
   "execution_count": 93,
   "id": "fd151d8a-597b-4124-a287-1f9e256aaafb",
   "metadata": {},
   "outputs": [],
   "source": [
    "prom_2 = prom.iloc[1, 1:]/615"
   ]
  },
  {
   "cell_type": "code",
   "execution_count": 94,
   "id": "fa4fe21f-26d0-44ec-91bc-4278b0222c55",
   "metadata": {},
   "outputs": [],
   "source": [
    "prom_3 = prom.iloc[2, 1:]/793"
   ]
  },
  {
   "cell_type": "code",
   "execution_count": 95,
   "id": "fa54dc9f-7715-46cc-aca7-f6a190ab63c7",
   "metadata": {},
   "outputs": [
    {
     "data": {
      "text/html": [
       "<div>\n",
       "<style scoped>\n",
       "    .dataframe tbody tr th:only-of-type {\n",
       "        vertical-align: middle;\n",
       "    }\n",
       "\n",
       "    .dataframe tbody tr th {\n",
       "        vertical-align: top;\n",
       "    }\n",
       "\n",
       "    .dataframe thead th {\n",
       "        text-align: right;\n",
       "    }\n",
       "</style>\n",
       "<table border=\"1\" class=\"dataframe\">\n",
       "  <thead>\n",
       "    <tr style=\"text-align: right;\">\n",
       "      <th></th>\n",
       "      <th>promotion_1</th>\n",
       "      <th>promotion_2</th>\n",
       "      <th>promotion_3</th>\n",
       "      <th>promotion_4</th>\n",
       "      <th>promotion_5</th>\n",
       "      <th>promotion_6</th>\n",
       "    </tr>\n",
       "    <tr>\n",
       "      <th>rfm_segment</th>\n",
       "      <th></th>\n",
       "      <th></th>\n",
       "      <th></th>\n",
       "      <th></th>\n",
       "      <th></th>\n",
       "      <th></th>\n",
       "    </tr>\n",
       "  </thead>\n",
       "  <tbody>\n",
       "    <tr>\n",
       "      <th>1</th>\n",
       "      <td>0.000000</td>\n",
       "      <td>0.002484</td>\n",
       "      <td>0.070807</td>\n",
       "      <td>0.006211</td>\n",
       "      <td>0.001242</td>\n",
       "      <td>0.074534</td>\n",
       "    </tr>\n",
       "    <tr>\n",
       "      <th>2</th>\n",
       "      <td>0.050407</td>\n",
       "      <td>0.009756</td>\n",
       "      <td>0.071545</td>\n",
       "      <td>0.078049</td>\n",
       "      <td>0.060163</td>\n",
       "      <td>0.126829</td>\n",
       "    </tr>\n",
       "    <tr>\n",
       "      <th>3</th>\n",
       "      <td>0.139975</td>\n",
       "      <td>0.026482</td>\n",
       "      <td>0.078184</td>\n",
       "      <td>0.138714</td>\n",
       "      <td>0.155107</td>\n",
       "      <td>0.245902</td>\n",
       "    </tr>\n",
       "  </tbody>\n",
       "</table>\n",
       "</div>"
      ],
      "text/plain": [
       "             promotion_1  promotion_2  promotion_3  promotion_4  promotion_5  \\\n",
       "rfm_segment                                                                    \n",
       "1               0.000000     0.002484     0.070807     0.006211     0.001242   \n",
       "2               0.050407     0.009756     0.071545     0.078049     0.060163   \n",
       "3               0.139975     0.026482     0.078184     0.138714     0.155107   \n",
       "\n",
       "             promotion_6  \n",
       "rfm_segment               \n",
       "1               0.074534  \n",
       "2               0.126829  \n",
       "3               0.245902  "
      ]
     },
     "execution_count": 95,
     "metadata": {},
     "output_type": "execute_result"
    }
   ],
   "source": [
    "prom = pd.concat([prom_1, prom_2, prom_3], axis=1)\n",
    "prom = prom.T\n",
    "prom = prom.set_index(concat['rfm_segment'])\n",
    "prom"
   ]
  },
  {
   "cell_type": "code",
   "execution_count": 97,
   "id": "2d5e061d-be07-47ec-a455-26f9fb294f02",
   "metadata": {},
   "outputs": [
    {
     "data": {
      "image/png": "[encoded data removed]",
      "text/plain": [
       "<Figure size 640x480 with 1 Axes>"
      ]
     },
     "metadata": {},
     "output_type": "display_data"
    }
   ],
   "source": [
    "prom.plot(kind='bar')\n",
    "plt.title('고객 등급별 프로모션 참여율', fontsize = 16)\n",
    "plt.xlabel('고객 등급', fontsize=16)\n",
    "plt.ylabel('프로모션 참여율', fontsize=16)\n",
    "plt.legend(fontsize=13)\n",
    "plt.grid()"
   ]
  },
  {
   "cell_type": "markdown",
   "id": "723b7945-6671-4f84-87f3-da69569e771c",
   "metadata": {},
   "source": [
    "### 3등급이 프로모션 참여율이 높으므로 매출이 높은 3등급 고객을 타겟하여 프로모션 횟수를 늘리는 마케팅 계획을 세워볼 수 있다."
   ]
  },
  {
   "cell_type": "code",
   "execution_count": 414,
   "id": "30fb6cb3-6933-4316-897f-0790a62a83c8",
   "metadata": {},
   "outputs": [],
   "source": [
    "dff = pd.read_csv('C:/Users/elley/Desktop/Python/project_4_portfolio/mart_codeit/final.csv')"
   ]
  },
  {
   "cell_type": "code",
   "execution_count": 416,
   "id": "a2017cbd-6241-448f-a918-527e2496a01d",
   "metadata": {},
   "outputs": [
    {
     "data": {
      "text/html": [
       "<div>\n",
       "<style scoped>\n",
       "    .dataframe tbody tr th:only-of-type {\n",
       "        vertical-align: middle;\n",
       "    }\n",
       "\n",
       "    .dataframe tbody tr th {\n",
       "        vertical-align: top;\n",
       "    }\n",
       "\n",
       "    .dataframe thead th {\n",
       "        text-align: right;\n",
       "    }\n",
       "</style>\n",
       "<table border=\"1\" class=\"dataframe\">\n",
       "  <thead>\n",
       "    <tr style=\"text-align: right;\">\n",
       "      <th></th>\n",
       "      <th>ID</th>\n",
       "      <th>signup_ym</th>\n",
       "      <th>birth_year</th>\n",
       "      <th>annual_income</th>\n",
       "      <th>marital_st</th>\n",
       "      <th>children</th>\n",
       "      <th>recency</th>\n",
       "      <th>amount_alcohol</th>\n",
       "      <th>amount_fruit</th>\n",
       "      <th>amount_meat</th>\n",
       "      <th>amount_fish</th>\n",
       "      <th>amount_snack</th>\n",
       "      <th>amount_general</th>\n",
       "      <th>amount_total</th>\n",
       "      <th>num_purchase_web</th>\n",
       "      <th>num_purchase_store</th>\n",
       "      <th>num_purchase_discount</th>\n",
       "      <th>num_purchase_total</th>\n",
       "      <th>promotion_1</th>\n",
       "      <th>promotion_2</th>\n",
       "      <th>promotion_3</th>\n",
       "      <th>promotion_4</th>\n",
       "      <th>promotion_5</th>\n",
       "      <th>promotion_6</th>\n",
       "      <th>recency_grade</th>\n",
       "      <th>frequency_grade</th>\n",
       "      <th>monetary_grade</th>\n",
       "      <th>rfm_score</th>\n",
       "      <th>rfm_segment</th>\n",
       "      <th>age</th>\n",
       "      <th>age_group</th>\n",
       "    </tr>\n",
       "  </thead>\n",
       "  <tbody>\n",
       "    <tr>\n",
       "      <th>0</th>\n",
       "      <td>5524</td>\n",
       "      <td>2020-12</td>\n",
       "      <td>1965</td>\n",
       "      <td>75579400.0</td>\n",
       "      <td>미혼</td>\n",
       "      <td>0</td>\n",
       "      <td>58</td>\n",
       "      <td>825500</td>\n",
       "      <td>114400</td>\n",
       "      <td>709800</td>\n",
       "      <td>223600</td>\n",
       "      <td>114400</td>\n",
       "      <td>114400</td>\n",
       "      <td>2102100</td>\n",
       "      <td>8</td>\n",
       "      <td>4</td>\n",
       "      <td>3</td>\n",
       "      <td>15</td>\n",
       "      <td>0</td>\n",
       "      <td>0</td>\n",
       "      <td>0</td>\n",
       "      <td>0</td>\n",
       "      <td>0</td>\n",
       "      <td>1</td>\n",
       "      <td>2</td>\n",
       "      <td>2</td>\n",
       "      <td>3</td>\n",
       "      <td>2.4</td>\n",
       "      <td>3</td>\n",
       "      <td>59</td>\n",
       "      <td>50대</td>\n",
       "    </tr>\n",
       "    <tr>\n",
       "      <th>1</th>\n",
       "      <td>2174</td>\n",
       "      <td>2022-06</td>\n",
       "      <td>1962</td>\n",
       "      <td>60247200.0</td>\n",
       "      <td>미혼</td>\n",
       "      <td>2</td>\n",
       "      <td>38</td>\n",
       "      <td>14300</td>\n",
       "      <td>1300</td>\n",
       "      <td>7800</td>\n",
       "      <td>2600</td>\n",
       "      <td>1300</td>\n",
       "      <td>7800</td>\n",
       "      <td>35100</td>\n",
       "      <td>1</td>\n",
       "      <td>2</td>\n",
       "      <td>2</td>\n",
       "      <td>5</td>\n",
       "      <td>0</td>\n",
       "      <td>0</td>\n",
       "      <td>0</td>\n",
       "      <td>0</td>\n",
       "      <td>0</td>\n",
       "      <td>0</td>\n",
       "      <td>2</td>\n",
       "      <td>1</td>\n",
       "      <td>1</td>\n",
       "      <td>1.2</td>\n",
       "      <td>1</td>\n",
       "      <td>62</td>\n",
       "      <td>60대</td>\n",
       "    </tr>\n",
       "  </tbody>\n",
       "</table>\n",
       "</div>"
      ],
      "text/plain": [
       "     ID signup_ym  birth_year  annual_income marital_st  children  recency  \\\n",
       "0  5524   2020-12        1965     75579400.0         미혼         0       58   \n",
       "1  2174   2022-06        1962     60247200.0         미혼         2       38   \n",
       "\n",
       "   amount_alcohol  amount_fruit  amount_meat  amount_fish  amount_snack  \\\n",
       "0          825500        114400       709800       223600        114400   \n",
       "1           14300          1300         7800         2600          1300   \n",
       "\n",
       "   amount_general  amount_total  num_purchase_web  num_purchase_store  \\\n",
       "0          114400       2102100                 8                   4   \n",
       "1            7800         35100                 1                   2   \n",
       "\n",
       "   num_purchase_discount  num_purchase_total  promotion_1  promotion_2  \\\n",
       "0                      3                  15            0            0   \n",
       "1                      2                   5            0            0   \n",
       "\n",
       "   promotion_3  promotion_4  promotion_5  promotion_6  recency_grade  \\\n",
       "0            0            0            0            1              2   \n",
       "1            0            0            0            0              2   \n",
       "\n",
       "   frequency_grade  monetary_grade  rfm_score  rfm_segment  age age_group  \n",
       "0                2               3        2.4            3   59       50대  \n",
       "1                1               1        1.2            1   62       60대  "
      ]
     },
     "execution_count": 416,
     "metadata": {},
     "output_type": "execute_result"
    }
   ],
   "source": [
    "dff.head(2)"
   ]
  },
  {
   "cell_type": "code",
   "execution_count": 421,
   "id": "d1bacfae-2c1b-4a5a-b8a9-e482d48842ec",
   "metadata": {},
   "outputs": [],
   "source": [
    "marry = dff['marital_st']"
   ]
  },
  {
   "cell_type": "code",
   "execution_count": 425,
   "id": "92981d4e-9d6a-4e05-8564-3f4dad76f75a",
   "metadata": {},
   "outputs": [],
   "source": [
    "df = pd.read_csv('C:/Users/elley/Desktop/Python/project_4_portfolio/mart_codeit/EDA2_finish.csv')"
   ]
  },
  {
   "cell_type": "code",
   "execution_count": 427,
   "id": "6e3f49f2-d379-4bd8-9b92-275f658c09a7",
   "metadata": {},
   "outputs": [],
   "source": [
    "df = df.drop(columns=['marital_status'])"
   ]
  },
  {
   "cell_type": "code",
   "execution_count": 428,
   "id": "4d5fa415-93d5-4dd0-9cc5-0e513008f8ae",
   "metadata": {},
   "outputs": [],
   "source": [
    "df.insert(loc=4, column='marital_st', value=marry)"
   ]
  },
  {
   "cell_type": "code",
   "execution_count": 432,
   "id": "7e7edb24-551a-48b8-bffe-1bd650c8d0c7",
   "metadata": {},
   "outputs": [],
   "source": [
    "data = pd.read_csv('C:/Users/elley/Desktop/Python/project_4_portfolio/mart_codeit/final_2.csv')"
   ]
  },
  {
   "cell_type": "raw",
   "id": "c4ab5048-35be-4a88-89b0-9486698a6dbb",
   "metadata": {},
   "source": [
    "data.head(2)"
   ]
  },
  {
   "cell_type": "code",
   "execution_count": 458,
   "id": "30781f9e-6126-4329-b242-5afe7448732d",
   "metadata": {},
   "outputs": [
    {
     "data": {
      "text/plain": [
       "0    103\n",
       "1    437\n",
       "2    233\n",
       "3     32\n",
       "Name: 0, dtype: int64"
      ]
     },
     "execution_count": 458,
     "metadata": {},
     "output_type": "execute_result"
    }
   ],
   "source": [
    "ch_0 = data.groupby(['rfm_segment','children']).size()\n",
    "ch_0 = pd.DataFrame(ch_0)\n",
    "ch_0 = ch_0.reset_index()\n",
    "ch_0 = ch_0.T.T\n",
    "ch_01 = ch_0[ch_0['rfm_segment'] == 1]\n",
    "ch = ch_01.T\n",
    "ch.iloc[2,:]"
   ]
  },
  {
   "cell_type": "code",
   "execution_count": 459,
   "id": "6721577d-7606-4bbb-bb44-82999c8e6da7",
   "metadata": {},
   "outputs": [
    {
     "data": {
      "image/png": "[encoded data removed]",
      "text/plain": [
       "<Figure size 1500x500 with 3 Axes>"
      ]
     },
     "metadata": {},
     "output_type": "display_data"
    }
   ],
   "source": [
    "fig, axes = plt.subplots(1, 3, figsize=(15, 5))  # 1행 3열의 서브플롯 생성\n",
    "ag = ['0명', '1명', '2명', '3명']\n",
    "\n",
    "# 서브플롯\n",
    "for i in range(1, 4):\n",
    "    ch_i = ch_0[ch_0['rfm_segment']==i]\n",
    "    ch_i = ch_i.T\n",
    "    ch_i = ch_i.iloc[2,:]\n",
    "    \n",
    "    # 파이차트 그리기\n",
    "    ch_i.plot(\n",
    "        kind='pie',\n",
    "        # y=ch_i.columns[0],\n",
    "        autopct='%.1f%%',\n",
    "        labels=[f'{x}' for x in ag],\n",
    "        title=f'{i}등급 세그먼트 자녀 수',\n",
    "        ylabel='',\n",
    "        legend=False,\n",
    "        ax = axes[i-1])\n",
    "\n",
    "plt.show()"
   ]
  },
  {
   "cell_type": "code",
   "execution_count": 460,
   "id": "2278a5be-f09c-4031-8bd1-b836a1baa378",
   "metadata": {},
   "outputs": [
    {
     "name": "stdout",
     "output_type": "stream",
     "text": [
      "['미혼' '배우자 있음' '이혼' nan '사별']\n"
     ]
    }
   ],
   "source": [
    "unique_cate = data['marital_st'].unique()\n",
    "print(unique_cate)"
   ]
  },
  {
   "cell_type": "code",
   "execution_count": 461,
   "id": "fedc28bb-bf7c-43af-923a-64b7810c5417",
   "metadata": {},
   "outputs": [
    {
     "data": {
      "text/plain": [
       "Index([  10,   27,   43,   48,   58,   71,   90,   91,   92,  128,  133,  181,\n",
       "        228,  312,  319,  326, 1379, 1382, 1383, 1386, 2059, 2061, 2078, 2079,\n",
       "       2081, 2084],\n",
       "      dtype='int64')"
      ]
     },
     "execution_count": 461,
     "metadata": {},
     "output_type": "execute_result"
    }
   ],
   "source": [
    "nan_in= data[data['marital_st'].isna()].index\n",
    "nan_in"
   ]
  },
  {
   "cell_type": "code",
   "execution_count": 464,
   "id": "537c6025-f0a1-448a-969e-6a1e005fbfd4",
   "metadata": {},
   "outputs": [],
   "source": [
    "data_m = data.dropna(subset=['marital_st'])"
   ]
  },
  {
   "cell_type": "code",
   "execution_count": 465,
   "id": "553c3c72-97f4-4bdc-bd9c-6b3af5082c5b",
   "metadata": {},
   "outputs": [
    {
     "data": {
      "text/plain": [
       "(2187, 31)"
      ]
     },
     "execution_count": 465,
     "metadata": {},
     "output_type": "execute_result"
    }
   ],
   "source": [
    "data_m.shape"
   ]
  },
  {
   "cell_type": "code",
   "execution_count": 467,
   "id": "3b6b532b-aa8d-4902-892d-796b75e8912b",
   "metadata": {},
   "outputs": [
    {
     "data": {
      "text/html": [
       "<div>\n",
       "<style scoped>\n",
       "    .dataframe tbody tr th:only-of-type {\n",
       "        vertical-align: middle;\n",
       "    }\n",
       "\n",
       "    .dataframe tbody tr th {\n",
       "        vertical-align: top;\n",
       "    }\n",
       "\n",
       "    .dataframe thead th {\n",
       "        text-align: right;\n",
       "    }\n",
       "</style>\n",
       "<table border=\"1\" class=\"dataframe\">\n",
       "  <thead>\n",
       "    <tr style=\"text-align: right;\">\n",
       "      <th></th>\n",
       "      <th>rfm_segment</th>\n",
       "      <th>marital_st</th>\n",
       "      <th>0</th>\n",
       "    </tr>\n",
       "  </thead>\n",
       "  <tbody>\n",
       "    <tr>\n",
       "      <th>0</th>\n",
       "      <td>1</td>\n",
       "      <td>미혼</td>\n",
       "      <td>162</td>\n",
       "    </tr>\n",
       "    <tr>\n",
       "      <th>1</th>\n",
       "      <td>1</td>\n",
       "      <td>배우자 있음</td>\n",
       "      <td>517</td>\n",
       "    </tr>\n",
       "    <tr>\n",
       "      <th>2</th>\n",
       "      <td>1</td>\n",
       "      <td>사별</td>\n",
       "      <td>22</td>\n",
       "    </tr>\n",
       "    <tr>\n",
       "      <th>3</th>\n",
       "      <td>1</td>\n",
       "      <td>이혼</td>\n",
       "      <td>94</td>\n",
       "    </tr>\n",
       "    <tr>\n",
       "      <th>4</th>\n",
       "      <td>2</td>\n",
       "      <td>미혼</td>\n",
       "      <td>129</td>\n",
       "    </tr>\n",
       "    <tr>\n",
       "      <th>5</th>\n",
       "      <td>2</td>\n",
       "      <td>배우자 있음</td>\n",
       "      <td>388</td>\n",
       "    </tr>\n",
       "    <tr>\n",
       "      <th>6</th>\n",
       "      <td>2</td>\n",
       "      <td>사별</td>\n",
       "      <td>22</td>\n",
       "    </tr>\n",
       "    <tr>\n",
       "      <th>7</th>\n",
       "      <td>2</td>\n",
       "      <td>이혼</td>\n",
       "      <td>68</td>\n",
       "    </tr>\n",
       "    <tr>\n",
       "      <th>8</th>\n",
       "      <td>3</td>\n",
       "      <td>미혼</td>\n",
       "      <td>180</td>\n",
       "    </tr>\n",
       "    <tr>\n",
       "      <th>9</th>\n",
       "      <td>3</td>\n",
       "      <td>배우자 있음</td>\n",
       "      <td>506</td>\n",
       "    </tr>\n",
       "    <tr>\n",
       "      <th>10</th>\n",
       "      <td>3</td>\n",
       "      <td>사별</td>\n",
       "      <td>31</td>\n",
       "    </tr>\n",
       "    <tr>\n",
       "      <th>11</th>\n",
       "      <td>3</td>\n",
       "      <td>이혼</td>\n",
       "      <td>68</td>\n",
       "    </tr>\n",
       "  </tbody>\n",
       "</table>\n",
       "</div>"
      ],
      "text/plain": [
       "    rfm_segment marital_st    0\n",
       "0             1         미혼  162\n",
       "1             1     배우자 있음  517\n",
       "2             1         사별   22\n",
       "3             1         이혼   94\n",
       "4             2         미혼  129\n",
       "5             2     배우자 있음  388\n",
       "6             2         사별   22\n",
       "7             2         이혼   68\n",
       "8             3         미혼  180\n",
       "9             3     배우자 있음  506\n",
       "10            3         사별   31\n",
       "11            3         이혼   68"
      ]
     },
     "execution_count": 467,
     "metadata": {},
     "output_type": "execute_result"
    }
   ],
   "source": [
    "m = data.groupby(['rfm_segment','marital_st']).size()\n",
    "m = pd.DataFrame(m)\n",
    "m = m.reset_index()\n",
    "m"
   ]
  },
  {
   "cell_type": "code",
   "execution_count": 469,
   "id": "787f9fb5-0a9b-4d74-a996-97d1025c8373",
   "metadata": {},
   "outputs": [
    {
     "data": {
      "text/html": [
       "<div>\n",
       "<style scoped>\n",
       "    .dataframe tbody tr th:only-of-type {\n",
       "        vertical-align: middle;\n",
       "    }\n",
       "\n",
       "    .dataframe tbody tr th {\n",
       "        vertical-align: top;\n",
       "    }\n",
       "\n",
       "    .dataframe thead th {\n",
       "        text-align: right;\n",
       "    }\n",
       "</style>\n",
       "<table border=\"1\" class=\"dataframe\">\n",
       "  <thead>\n",
       "    <tr style=\"text-align: right;\">\n",
       "      <th></th>\n",
       "      <th>0</th>\n",
       "      <th>1</th>\n",
       "      <th>2</th>\n",
       "      <th>3</th>\n",
       "    </tr>\n",
       "  </thead>\n",
       "  <tbody>\n",
       "    <tr>\n",
       "      <th>rfm_segment</th>\n",
       "      <td>1</td>\n",
       "      <td>1</td>\n",
       "      <td>1</td>\n",
       "      <td>1</td>\n",
       "    </tr>\n",
       "    <tr>\n",
       "      <th>marital_st</th>\n",
       "      <td>미혼</td>\n",
       "      <td>배우자 있음</td>\n",
       "      <td>사별</td>\n",
       "      <td>이혼</td>\n",
       "    </tr>\n",
       "    <tr>\n",
       "      <th>0</th>\n",
       "      <td>162</td>\n",
       "      <td>517</td>\n",
       "      <td>22</td>\n",
       "      <td>94</td>\n",
       "    </tr>\n",
       "  </tbody>\n",
       "</table>\n",
       "</div>"
      ],
      "text/plain": [
       "               0       1   2   3\n",
       "rfm_segment    1       1   1   1\n",
       "marital_st    미혼  배우자 있음  사별  이혼\n",
       "0            162     517  22  94"
      ]
     },
     "execution_count": 469,
     "metadata": {},
     "output_type": "execute_result"
    }
   ],
   "source": [
    "m_1 = m[m['rfm_segment'] == 1]\n",
    "m_1 = m_1.T\n",
    "m_1"
   ]
  },
  {
   "cell_type": "code",
   "execution_count": 471,
   "id": "50bb757f-5ec2-4ac2-8b87-33466babca93",
   "metadata": {},
   "outputs": [
    {
     "name": "stderr",
     "output_type": "stream",
     "text": [
      "C:\\Users\\elley\\AppData\\Local\\Temp\\ipykernel_17896\\4245871593.py:11: FutureWarning: Downcasting object dtype arrays on .fillna, .ffill, .bfill is deprecated and will change in a future version. Call result.infer_objects(copy=False) instead. To opt-in to the future behavior, set `pd.set_option('future.no_silent_downcasting', True)`\n",
      "  m_i.plot(\n",
      "C:\\Users\\elley\\AppData\\Local\\Temp\\ipykernel_17896\\4245871593.py:11: FutureWarning: Downcasting object dtype arrays on .fillna, .ffill, .bfill is deprecated and will change in a future version. Call result.infer_objects(copy=False) instead. To opt-in to the future behavior, set `pd.set_option('future.no_silent_downcasting', True)`\n",
      "  m_i.plot(\n",
      "C:\\Users\\elley\\AppData\\Local\\Temp\\ipykernel_17896\\4245871593.py:11: FutureWarning: Downcasting object dtype arrays on .fillna, .ffill, .bfill is deprecated and will change in a future version. Call result.infer_objects(copy=False) instead. To opt-in to the future behavior, set `pd.set_option('future.no_silent_downcasting', True)`\n",
      "  m_i.plot(\n"
     ]
    },
    {
     "data": {
      "image/png": "[encoded data removed]",
      "text/plain": [
       "<Figure size 1500x500 with 3 Axes>"
      ]
     },
     "metadata": {},
     "output_type": "display_data"
    }
   ],
   "source": [
    "fig, axes = plt.subplots(1, 3, figsize=(15, 5))  # 1행 3열의 서브플롯 생성\n",
    "ag = ['미혼', '배우자 있음', '사별', '이혼']\n",
    "\n",
    "# 서브플롯\n",
    "for i in range(1, 4):\n",
    "    m_i = m[m['rfm_segment']==i]\n",
    "    m_i = m_i.T\n",
    "    m_i = m_i.iloc[2,:]\n",
    "    \n",
    "    # 파이차트 그리기\n",
    "    m_i.plot(\n",
    "        kind='pie',\n",
    "        # y=ch_i.columns[0],\n",
    "        autopct='%.1f%%',\n",
    "        labels=[f'{x}' for x in ag],\n",
    "        title=f'{i}등급 세그먼트 혼인상태',\n",
    "        ylabel='',\n",
    "        legend=False,\n",
    "        ax = axes[i-1])\n",
    "\n",
    "plt.show()"
   ]
  },
  {
   "cell_type": "code",
   "execution_count": null,
   "id": "8dde9d17-516e-44e6-a2a1-6ac4d1257dae",
   "metadata": {},
   "outputs": [],
   "source": []
  }
 ],
 "metadata": {
  "kernelspec": {
   "display_name": "Python 3 (ipykernel)",
   "language": "python",
   "name": "python3"
  },
  "language_info": {
   "codemirror_mode": {
    "name": "ipython",
    "version": 3
   },
   "file_extension": ".py",
   "mimetype": "text/x-python",
   "name": "python",
   "nbconvert_exporter": "python",
   "pygments_lexer": "ipython3",
   "version": "3.9.19"
  }
 },
 "nbformat": 4,
 "nbformat_minor": 5
}
